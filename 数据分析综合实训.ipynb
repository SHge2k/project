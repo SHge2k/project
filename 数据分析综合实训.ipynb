{
 "cells": [
  {
   "cell_type": "code",
   "execution_count": 1,
   "metadata": {},
   "outputs": [
    {
     "data": {
      "text/html": [
       "<div>\n",
       "<style scoped>\n",
       "    .dataframe tbody tr th:only-of-type {\n",
       "        vertical-align: middle;\n",
       "    }\n",
       "\n",
       "    .dataframe tbody tr th {\n",
       "        vertical-align: top;\n",
       "    }\n",
       "\n",
       "    .dataframe thead th {\n",
       "        text-align: right;\n",
       "    }\n",
       "</style>\n",
       "<table border=\"1\" class=\"dataframe\">\n",
       "  <thead>\n",
       "    <tr style=\"text-align: right;\">\n",
       "      <th></th>\n",
       "      <th>CityId</th>\n",
       "      <th>Han</th>\n",
       "      <th>age</th>\n",
       "      <th>card_age</th>\n",
       "      <th>cashAmt_mean</th>\n",
       "      <th>cashAmt_non_null_months</th>\n",
       "      <th>cashCnt_mean</th>\n",
       "      <th>cashCnt_non_null_months</th>\n",
       "      <th>cashTotalAmt</th>\n",
       "      <th>cashTotalCnt</th>\n",
       "      <th>...</th>\n",
       "      <th>publicPayCnt</th>\n",
       "      <th>sex</th>\n",
       "      <th>threeVerify</th>\n",
       "      <th>transAmt_mean?</th>\n",
       "      <th>transAmt_non_null_months</th>\n",
       "      <th>transCnt_mean</th>\n",
       "      <th>transCnt_non_null_months</th>\n",
       "      <th>transTotalAmt?</th>\n",
       "      <th>transTotalCnt</th>\n",
       "      <th>Default</th>\n",
       "    </tr>\n",
       "  </thead>\n",
       "  <tbody>\n",
       "    <tr>\n",
       "      <td>0</td>\n",
       "      <td>一线城市</td>\n",
       "      <td>0</td>\n",
       "      <td>38</td>\n",
       "      <td>2</td>\n",
       "      <td>0.0</td>\n",
       "      <td>0</td>\n",
       "      <td>0.0</td>\n",
       "      <td>0</td>\n",
       "      <td>0</td>\n",
       "      <td>0</td>\n",
       "      <td>...</td>\n",
       "      <td>0</td>\n",
       "      <td>?女</td>\n",
       "      <td>?不一致</td>\n",
       "      <td>0.00</td>\n",
       "      <td>2</td>\n",
       "      <td>0.00</td>\n",
       "      <td>2</td>\n",
       "      <td>0</td>\n",
       "      <td>0</td>\n",
       "      <td>0</td>\n",
       "    </tr>\n",
       "    <tr>\n",
       "      <td>1</td>\n",
       "      <td>一线城市</td>\n",
       "      <td>0</td>\n",
       "      <td>39</td>\n",
       "      <td>19</td>\n",
       "      <td>0.0</td>\n",
       "      <td>0</td>\n",
       "      <td>0.0</td>\n",
       "      <td>0</td>\n",
       "      <td>0</td>\n",
       "      <td>0</td>\n",
       "      <td>...</td>\n",
       "      <td>0</td>\n",
       "      <td>?男</td>\n",
       "      <td>?一致</td>\n",
       "      <td>180.00</td>\n",
       "      <td>5</td>\n",
       "      <td>1.00</td>\n",
       "      <td>5</td>\n",
       "      <td>900</td>\n",
       "      <td>5</td>\n",
       "      <td>0</td>\n",
       "    </tr>\n",
       "    <tr>\n",
       "      <td>2</td>\n",
       "      <td>二线城市</td>\n",
       "      <td>0</td>\n",
       "      <td>40</td>\n",
       "      <td>16</td>\n",
       "      <td>0.0</td>\n",
       "      <td>0</td>\n",
       "      <td>0.0</td>\n",
       "      <td>0</td>\n",
       "      <td>0</td>\n",
       "      <td>0</td>\n",
       "      <td>...</td>\n",
       "      <td>2</td>\n",
       "      <td>?女</td>\n",
       "      <td>?一致</td>\n",
       "      <td>2378.89</td>\n",
       "      <td>9</td>\n",
       "      <td>0.33</td>\n",
       "      <td>9</td>\n",
       "      <td>21410</td>\n",
       "      <td>3</td>\n",
       "      <td>0</td>\n",
       "    </tr>\n",
       "    <tr>\n",
       "      <td>3</td>\n",
       "      <td>其它</td>\n",
       "      <td>0</td>\n",
       "      <td>38</td>\n",
       "      <td>13</td>\n",
       "      <td>22000.0</td>\n",
       "      <td>1</td>\n",
       "      <td>6.0</td>\n",
       "      <td>1</td>\n",
       "      <td>22000</td>\n",
       "      <td>6</td>\n",
       "      <td>...</td>\n",
       "      <td>0</td>\n",
       "      <td>?男</td>\n",
       "      <td>?一致</td>\n",
       "      <td>28008.00</td>\n",
       "      <td>10</td>\n",
       "      <td>1.50</td>\n",
       "      <td>10</td>\n",
       "      <td>280120</td>\n",
       "      <td>15</td>\n",
       "      <td>0</td>\n",
       "    </tr>\n",
       "    <tr>\n",
       "      <td>4</td>\n",
       "      <td>二线城市</td>\n",
       "      <td>0</td>\n",
       "      <td>24</td>\n",
       "      <td>8</td>\n",
       "      <td>0.0</td>\n",
       "      <td>0</td>\n",
       "      <td>0.0</td>\n",
       "      <td>0</td>\n",
       "      <td>0</td>\n",
       "      <td>0</td>\n",
       "      <td>...</td>\n",
       "      <td>8</td>\n",
       "      <td>?男</td>\n",
       "      <td>?一致</td>\n",
       "      <td>842.00</td>\n",
       "      <td>5</td>\n",
       "      <td>1.80</td>\n",
       "      <td>5</td>\n",
       "      <td>4220</td>\n",
       "      <td>9</td>\n",
       "      <td>0</td>\n",
       "    </tr>\n",
       "  </tbody>\n",
       "</table>\n",
       "<p>5 rows × 33 columns</p>\n",
       "</div>"
      ],
      "text/plain": [
       "  CityId  Han  age  card_age  cashAmt_mean  cashAmt_non_null_months  \\\n",
       "0   一线城市    0   38         2           0.0                        0   \n",
       "1   一线城市    0   39        19           0.0                        0   \n",
       "2   二线城市    0   40        16           0.0                        0   \n",
       "3     其它    0   38        13       22000.0                        1   \n",
       "4   二线城市    0   24         8           0.0                        0   \n",
       "\n",
       "   cashCnt_mean  cashCnt_non_null_months  cashTotalAmt  cashTotalCnt  ...  \\\n",
       "0           0.0                        0             0             0  ...   \n",
       "1           0.0                        0             0             0  ...   \n",
       "2           0.0                        0             0             0  ...   \n",
       "3           6.0                        1         22000             6  ...   \n",
       "4           0.0                        0             0             0  ...   \n",
       "\n",
       "  publicPayCnt sex  threeVerify  transAmt_mean?  transAmt_non_null_months  \\\n",
       "0            0  ?女         ?不一致            0.00                         2   \n",
       "1            0  ?男          ?一致          180.00                         5   \n",
       "2            2  ?女          ?一致         2378.89                         9   \n",
       "3            0  ?男          ?一致        28008.00                        10   \n",
       "4            8  ?男          ?一致          842.00                         5   \n",
       "\n",
       "   transCnt_mean transCnt_non_null_months  transTotalAmt? transTotalCnt  \\\n",
       "0           0.00                        2               0             0   \n",
       "1           1.00                        5             900             5   \n",
       "2           0.33                        9           21410             3   \n",
       "3           1.50                       10          280120            15   \n",
       "4           1.80                        5            4220             9   \n",
       "\n",
       "   Default  \n",
       "0        0  \n",
       "1        0  \n",
       "2        0  \n",
       "3        0  \n",
       "4        0  \n",
       "\n",
       "[5 rows x 33 columns]"
      ]
     },
     "execution_count": 1,
     "metadata": {},
     "output_type": "execute_result"
    }
   ],
   "source": [
    "import pandas as pd\n",
    "data= pd.read_csv('data1.csv',encoding='gbk')\n",
    "data = pd.DataFrame(data)\n",
    "data.head()"
   ]
  },
  {
   "cell_type": "code",
   "execution_count": 2,
   "metadata": {},
   "outputs": [
    {
     "name": "stdout",
     "output_type": "stream",
     "text": [
      "<class 'pandas.core.frame.DataFrame'>\n",
      "RangeIndex: 327 entries, 0 to 326\n",
      "Data columns (total 33 columns):\n",
      "CityId                      327 non-null object\n",
      "Han                         327 non-null int64\n",
      "age                         327 non-null int64\n",
      "card_age                    327 non-null int64\n",
      "cashAmt_mean                327 non-null float64\n",
      "cashAmt_non_null_months     327 non-null int64\n",
      "cashCnt_mean                327 non-null float64\n",
      "cashCnt_non_null_months     327 non-null int64\n",
      "cashTotalAmt                327 non-null int64\n",
      "cashTotalCnt                327 non-null int64\n",
      "education                   327 non-null object\n",
      "idVerify                    327 non-null object\n",
      "inCourt                     327 non-null int64\n",
      "isBlackList                 327 non-null int64\n",
      "isCrime                     327 non-null int64\n",
      "isDue                       327 non-null int64\n",
      "maritalStatus               327 non-null object\n",
      "monthCardLargeAmt           327 non-null int64\n",
      "netLength                   327 non-null object\n",
      "noTransWeekPre              327 non-null float64\n",
      "onlineTransAmt              327 non-null int64\n",
      "onlineTransCnt              327 non-null int64\n",
      "publicPayAmt                327 non-null int64\n",
      "publicPayCnt                327 non-null int64\n",
      "sex                         327 non-null object\n",
      "threeVerify                 327 non-null object\n",
      "transAmt_mean?              327 non-null float64\n",
      "transAmt_non_null_months    327 non-null int64\n",
      "transCnt_mean               327 non-null float64\n",
      "transCnt_non_null_months    327 non-null int64\n",
      "transTotalAmt?              327 non-null int64\n",
      "transTotalCnt               327 non-null int64\n",
      "Default                     327 non-null int64\n",
      "dtypes: float64(5), int64(21), object(7)\n",
      "memory usage: 84.4+ KB\n"
     ]
    }
   ],
   "source": [
    "data.info()"
   ]
  },
  {
   "cell_type": "code",
   "execution_count": 3,
   "metadata": {},
   "outputs": [
    {
     "name": "stdout",
     "output_type": "stream",
     "text": [
      "       CityId         Han         age    card_age  cashAmt_mean  \\\n",
      "count     327  327.000000  327.000000  327.000000    327.000000   \n",
      "unique      4         NaN         NaN         NaN           NaN   \n",
      "top      二线城市         NaN         NaN         NaN           NaN   \n",
      "freq      145         NaN         NaN         NaN           NaN   \n",
      "mean      NaN    0.048930   34.495413   26.957187   1609.714862   \n",
      "std       NaN    0.216052    8.301035   21.021855   3005.165899   \n",
      "min       NaN    0.000000   21.000000    0.000000      0.000000   \n",
      "25%       NaN    0.000000   28.000000   10.000000      0.000000   \n",
      "50%       NaN    0.000000   33.000000   23.000000    300.000000   \n",
      "75%       NaN    0.000000   40.000000   38.000000   1800.000000   \n",
      "max       NaN    1.000000   58.000000   85.000000  22000.000000   \n",
      "\n",
      "        cashAmt_non_null_months  cashCnt_mean  cashCnt_non_null_months  \\\n",
      "count                327.000000    327.000000               327.000000   \n",
      "unique                      NaN           NaN                      NaN   \n",
      "top                         NaN           NaN                      NaN   \n",
      "freq                        NaN           NaN                      NaN   \n",
      "mean                   2.067278      1.200459                 2.067278   \n",
      "std                    2.840613      1.431192                 2.840613   \n",
      "min                    0.000000      0.000000                 0.000000   \n",
      "25%                    0.000000      0.000000                 0.000000   \n",
      "50%                    1.000000      1.000000                 1.000000   \n",
      "75%                    3.000000      2.000000                 3.000000   \n",
      "max                   12.000000     10.000000                12.000000   \n",
      "\n",
      "         cashTotalAmt  cashTotalCnt  ... publicPayCnt  sex  threeVerify  \\\n",
      "count      327.000000    327.000000  ...   327.000000  327          327   \n",
      "unique            NaN           NaN  ...          NaN    2            3   \n",
      "top               NaN           NaN  ...          NaN   ?男          ?一致   \n",
      "freq              NaN           NaN  ...          NaN  202          241   \n",
      "mean      6801.376147      5.091743  ...     7.957187  NaN          NaN   \n",
      "std      17820.419518      9.316725  ...    19.597280  NaN          NaN   \n",
      "min          0.000000      0.000000  ...     0.000000  NaN          NaN   \n",
      "25%          0.000000      0.000000  ...     0.000000  NaN          NaN   \n",
      "50%        400.000000      1.000000  ...     1.000000  NaN          NaN   \n",
      "75%       5450.000000      5.000000  ...     7.000000  NaN          NaN   \n",
      "max     192500.000000     52.000000  ...   190.000000  NaN          NaN   \n",
      "\n",
      "        transAmt_mean?  transAmt_non_null_months  transCnt_mean  \\\n",
      "count       327.000000                327.000000     327.000000   \n",
      "unique             NaN                       NaN            NaN   \n",
      "top                NaN                       NaN            NaN   \n",
      "freq               NaN                       NaN            NaN   \n",
      "mean       8712.743333                  6.100917       2.503119   \n",
      "std       29014.895346                  4.131901       3.550885   \n",
      "min           0.000000                  0.000000       0.000000   \n",
      "25%         125.355000                  2.000000       0.670000   \n",
      "50%        1285.000000                  6.000000       1.250000   \n",
      "75%        5897.500000                 10.000000       2.800000   \n",
      "max      367633.330000                 12.000000      24.920000   \n",
      "\n",
      "       transCnt_non_null_months  transTotalAmt? transTotalCnt  Default  \n",
      "count                327.000000    3.270000e+02    327.000000    327.0  \n",
      "unique                      NaN             NaN           NaN      NaN  \n",
      "top                         NaN             NaN           NaN      NaN  \n",
      "freq                        NaN             NaN           NaN      NaN  \n",
      "mean                   6.100917    8.216242e+04     22.382263      0.0  \n",
      "std                    4.131901    3.311771e+05     42.575779      0.0  \n",
      "min                    0.000000    0.000000e+00      0.000000      0.0  \n",
      "25%                    2.000000    3.300000e+02      1.000000      0.0  \n",
      "50%                    6.000000    6.070000e+03      6.000000      0.0  \n",
      "75%                   10.000000    4.786000e+04     21.000000      0.0  \n",
      "max                   12.000000    4.411630e+06    340.000000      0.0  \n",
      "\n",
      "[11 rows x 33 columns]\n"
     ]
    }
   ],
   "source": [
    "import pandas as pd\n",
    "data_des = data.describe(include='all')\n",
    "print(data_des)"
   ]
  },
  {
   "cell_type": "code",
   "execution_count": 4,
   "metadata": {},
   "outputs": [
    {
     "data": {
      "text/plain": [
       "<Figure size 800x600 with 1 Axes>"
      ]
     },
     "metadata": {},
     "output_type": "display_data"
    }
   ],
   "source": [
    "#4.5 是否违约（Default）特征分析\n",
    "import pandas as pd\n",
    "import matplotlib.pyplot as plt\n",
    "\n",
    "fig = plt.figure(figsize=(8,6))\n",
    "# 绘制柱状图，查看违约关系的取值分布情况\n",
    "data['Default'].value_counts(dropna=False).plot(kind='bar',rot=40)\n",
    "\n",
    "# 在柱形上方显示计数\n",
    "counts = data['Default'].value_counts(dropna=False).values\n",
    "for index, item in zip([0,1,2], counts): \n",
    "    plt.text(index, item, item, ha=\"center\", va= \"bottom\", fontsize=12) \n",
    "\n",
    "# 设置柱形名称\n",
    "plt.xticks([0,1,2],['未违约','违约','NaN'])\n",
    "\n",
    "# 设置x、y轴标签\n",
    "plt.xlabel('是否违约')\n",
    "plt.ylabel('客户数量')\n",
    "\n",
    "# 设置标题以及字体大小\n",
    "plt.title('违约与未违约数量分布图',size=13)\n",
    "\n",
    "# 设置中文显示\n",
    "plt.rcParams['font.sans-serif']=['SimHei'] \n",
    "plt.rcParams['font.family']=['sans-serif']\n",
    "plt.show()"
   ]
  },
  {
   "cell_type": "code",
   "execution_count": 5,
   "metadata": {},
   "outputs": [
    {
     "ename": "IndexError",
     "evalue": "index 4 is out of bounds for axis 0 with size 3",
     "output_type": "error",
     "traceback": [
      "\u001b[1;31m---------------------------------------------------------------------------\u001b[0m",
      "\u001b[1;31mIndexError\u001b[0m                                Traceback (most recent call last)",
      "\u001b[1;32m<ipython-input-5-cc0e9fb49358>\u001b[0m in \u001b[0;36m<module>\u001b[1;34m\u001b[0m\n\u001b[0;32m     14\u001b[0m \u001b[1;31m# 将具体的计数值显示在柱形上方\u001b[0m\u001b[1;33m\u001b[0m\u001b[1;33m\u001b[0m\u001b[1;33m\u001b[0m\u001b[0m\n\u001b[0;32m     15\u001b[0m \u001b[0mcounts\u001b[0m\u001b[1;33m=\u001b[0m\u001b[0mdata\u001b[0m\u001b[1;33m[\u001b[0m\u001b[1;34m'Default'\u001b[0m\u001b[1;33m]\u001b[0m\u001b[1;33m.\u001b[0m\u001b[0mgroupby\u001b[0m\u001b[1;33m(\u001b[0m\u001b[0mdata\u001b[0m\u001b[1;33m[\u001b[0m\u001b[1;34m'CityId'\u001b[0m\u001b[1;33m]\u001b[0m\u001b[1;33m)\u001b[0m\u001b[1;33m.\u001b[0m\u001b[0mvalue_counts\u001b[0m\u001b[1;33m(\u001b[0m\u001b[1;33m)\u001b[0m\u001b[1;33m.\u001b[0m\u001b[0mvalues\u001b[0m\u001b[1;33m\u001b[0m\u001b[1;33m\u001b[0m\u001b[0m\n\u001b[1;32m---> 16\u001b[1;33m \u001b[0mcount1\u001b[0m \u001b[1;33m=\u001b[0m \u001b[0mcounts\u001b[0m\u001b[1;33m[\u001b[0m\u001b[1;33m[\u001b[0m\u001b[1;36m0\u001b[0m\u001b[1;33m,\u001b[0m \u001b[1;36m2\u001b[0m\u001b[1;33m,\u001b[0m \u001b[1;36m4\u001b[0m\u001b[1;33m]\u001b[0m\u001b[1;33m]\u001b[0m\u001b[1;33m\u001b[0m\u001b[1;33m\u001b[0m\u001b[0m\n\u001b[0m\u001b[0;32m     17\u001b[0m \u001b[0mcount2\u001b[0m \u001b[1;33m=\u001b[0m \u001b[0mcounts\u001b[0m\u001b[1;33m[\u001b[0m\u001b[1;33m[\u001b[0m\u001b[1;36m1\u001b[0m\u001b[1;33m,\u001b[0m \u001b[1;36m3\u001b[0m\u001b[1;33m,\u001b[0m \u001b[1;36m5\u001b[0m\u001b[1;33m]\u001b[0m\u001b[1;33m]\u001b[0m\u001b[1;33m\u001b[0m\u001b[1;33m\u001b[0m\u001b[0m\n\u001b[0;32m     18\u001b[0m \u001b[1;32mfor\u001b[0m \u001b[0mindex\u001b[0m\u001b[1;33m,\u001b[0m \u001b[0mitem1\u001b[0m\u001b[1;33m,\u001b[0m \u001b[0mitem2\u001b[0m \u001b[1;32min\u001b[0m \u001b[0mzip\u001b[0m\u001b[1;33m(\u001b[0m\u001b[1;33m[\u001b[0m\u001b[1;36m0\u001b[0m\u001b[1;33m,\u001b[0m\u001b[1;36m1\u001b[0m\u001b[1;33m,\u001b[0m\u001b[1;36m2\u001b[0m\u001b[1;33m]\u001b[0m\u001b[1;33m,\u001b[0m \u001b[0mcount1\u001b[0m\u001b[1;33m,\u001b[0m \u001b[0mcount2\u001b[0m\u001b[1;33m)\u001b[0m\u001b[1;33m:\u001b[0m\u001b[1;33m\u001b[0m\u001b[1;33m\u001b[0m\u001b[0m\n",
      "\u001b[1;31mIndexError\u001b[0m: index 4 is out of bounds for axis 0 with size 3"
     ]
    },
    {
     "data": {
      "image/png": "[encoded data removed]",
      "text/plain": [
       "<Figure size 1872x1296 with 2 Axes>"
      ]
     },
     "metadata": {
      "needs_background": "light"
     },
     "output_type": "display_data"
    }
   ],
   "source": [
    "#4.6 城市级别（CityId）特征分布\n",
    "import seaborn as sns\n",
    "import matplotlib.pyplot as plt\n",
    "\n",
    "fig,[ax1,ax2] = plt.subplots(1,2,figsize=(26,18))\n",
    "\n",
    "# 对CityId列的类别设定顺序\n",
    "data['CityId'] = data['CityId'].astype('category')\n",
    "data['CityId'] = data['CityId'].cat.set_categories(['一线城市', '二线城市', '其它'],ordered=True)\n",
    "\n",
    "# 绘制柱状图，查看不同城市级别在不同是否违约的取值分布情况\n",
    "sns.countplot(x='CityId',hue='Default',data=data,ax=ax1)\n",
    "\n",
    "# 将具体的计数值显示在柱形上方\n",
    "counts=data['Default'].groupby(data['CityId']).value_counts().values\n",
    "count1 = counts[[0, 2, 4]]\n",
    "count2 = counts[[1, 3, 5]]\n",
    "for index, item1, item2 in zip([0,1,2], count1, count2): \n",
    "    ax1.text(index-0.2, item1 + 0.05, '%.0f' % item1, ha=\"center\", va= \"bottom\",fontsize=12)\n",
    "    ax1.text(index+0.2, item2 + 0.05, '%.0f' % item2, ha=\"center\", va= \"bottom\",fontsize=12)\n",
    "    \n",
    "\n",
    "# 绘制柱状图查看违约率分布\n",
    "cityid_rate = data.groupby('CityId')['Default'].sum() / data.groupby('CityId')['Default'].count()\n",
    "sns.barplot(x=[0,1,2],y=cityid_rate.values,ax=ax2)\n",
    "\n",
    "# 将具体的计数值显示在柱形上方\n",
    "for index, item in zip([0,1,2], cityid_rate): \n",
    "     ax2.text(index, item, '%.3f' % item, ha=\"center\", va= \"bottom\",fontsize=12)\n",
    "        \n",
    "#设置柱形名称\n",
    "ax1.set_xticklabels(['一线城市','二线城市','其它'])\n",
    "ax2.set_xticklabels(['一线城市','二线城市','其它'])\n",
    "\n",
    "# 设置图例名称\n",
    "ax1.legend(labels=['未违约','违约'])\n",
    "\n",
    "# 设置标题以及字体大小\n",
    "ax1.set_title('不同城市级别下不同违约情况数量分布柱状图',size=13)\n",
    "ax1.set_title('不同城市级别违约率分布柱状图',size=13)\n",
    "\n",
    "# 设置x,y轴标签\n",
    "ax1.set_xlabel('CityId')\n",
    "ax1.set_ylabel('客户人数')\n",
    "ax2.set_xlabel('CityId')\n",
    "ax2.set_ylabel('违约率')\n",
    "\n",
    "#显示汉语标注\n",
    "plt.rcParams['font.sans-serif']=['SimHei'] \n",
    "plt.rcParams['font.family']=['sans-serif']\n",
    "plt.show()"
   ]
  },
  {
   "cell_type": "code",
   "execution_count": 43,
   "metadata": {},
   "outputs": [
    {
     "ename": "ValueError",
     "evalue": "operands could not be broadcast together with shape (4,) (2,)",
     "output_type": "error",
     "traceback": [
      "\u001b[1;31m---------------------------------------------------------------------------\u001b[0m",
      "\u001b[1;31mValueError\u001b[0m                                Traceback (most recent call last)",
      "\u001b[1;32m<ipython-input-43-e11009e49f10>\u001b[0m in \u001b[0;36m<module>\u001b[1;34m\u001b[0m\n\u001b[0;32m     13\u001b[0m \u001b[1;33m\u001b[0m\u001b[0m\n\u001b[0;32m     14\u001b[0m \u001b[1;31m# 将具体的计数值显示在柱形上方\u001b[0m\u001b[1;33m\u001b[0m\u001b[1;33m\u001b[0m\u001b[1;33m\u001b[0m\u001b[0m\n\u001b[1;32m---> 15\u001b[1;33m \u001b[0mcounts\u001b[0m\u001b[1;33m=\u001b[0m\u001b[0mdata\u001b[0m\u001b[1;33m[\u001b[0m\u001b[1;34m'Default'\u001b[0m\u001b[1;33m]\u001b[0m\u001b[1;33m.\u001b[0m\u001b[0mgroupby\u001b[0m\u001b[1;33m(\u001b[0m\u001b[0mdata\u001b[0m\u001b[1;33m[\u001b[0m\u001b[1;34m'education'\u001b[0m\u001b[1;33m]\u001b[0m\u001b[1;33m)\u001b[0m\u001b[1;33m.\u001b[0m\u001b[0mvalue_counts\u001b[0m\u001b[1;33m(\u001b[0m\u001b[1;33m)\u001b[0m\u001b[1;33m.\u001b[0m\u001b[0mvalues\u001b[0m\u001b[1;33m\u001b[0m\u001b[1;33m\u001b[0m\u001b[0m\n\u001b[0m\u001b[0;32m     16\u001b[0m \u001b[0mcount1\u001b[0m \u001b[1;33m=\u001b[0m \u001b[0mcounts\u001b[0m\u001b[1;33m[\u001b[0m\u001b[1;33m[\u001b[0m\u001b[1;36m0\u001b[0m\u001b[1;33m,\u001b[0m \u001b[1;36m2\u001b[0m\u001b[1;33m,\u001b[0m \u001b[1;36m4\u001b[0m\u001b[1;33m,\u001b[0m\u001b[1;36m6\u001b[0m\u001b[1;33m]\u001b[0m\u001b[1;33m]\u001b[0m\u001b[1;33m\u001b[0m\u001b[1;33m\u001b[0m\u001b[0m\n\u001b[0;32m     17\u001b[0m \u001b[0mcount2\u001b[0m \u001b[1;33m=\u001b[0m \u001b[0mcounts\u001b[0m\u001b[1;33m[\u001b[0m\u001b[1;33m[\u001b[0m\u001b[1;36m1\u001b[0m\u001b[1;33m,\u001b[0m \u001b[1;36m3\u001b[0m\u001b[1;33m,\u001b[0m \u001b[1;36m5\u001b[0m\u001b[1;33m,\u001b[0m\u001b[1;36m7\u001b[0m\u001b[1;33m]\u001b[0m\u001b[1;33m]\u001b[0m\u001b[1;33m\u001b[0m\u001b[1;33m\u001b[0m\u001b[0m\n",
      "\u001b[1;32mD:\\anaconda3\\lib\\site-packages\\pandas\\core\\groupby\\generic.py\u001b[0m in \u001b[0;36mvalue_counts\u001b[1;34m(self, normalize, sort, ascending, bins, dropna)\u001b[0m\n\u001b[0;32m   1242\u001b[0m \u001b[1;33m\u001b[0m\u001b[0m\n\u001b[0;32m   1243\u001b[0m         \u001b[1;31m# multi-index components\u001b[0m\u001b[1;33m\u001b[0m\u001b[1;33m\u001b[0m\u001b[1;33m\u001b[0m\u001b[0m\n\u001b[1;32m-> 1244\u001b[1;33m         \u001b[0mlabels\u001b[0m \u001b[1;33m=\u001b[0m \u001b[0mlist\u001b[0m\u001b[1;33m(\u001b[0m\u001b[0mmap\u001b[0m\u001b[1;33m(\u001b[0m\u001b[0mrep\u001b[0m\u001b[1;33m,\u001b[0m \u001b[0mself\u001b[0m\u001b[1;33m.\u001b[0m\u001b[0mgrouper\u001b[0m\u001b[1;33m.\u001b[0m\u001b[0mrecons_labels\u001b[0m\u001b[1;33m)\u001b[0m\u001b[1;33m)\u001b[0m \u001b[1;33m+\u001b[0m \u001b[1;33m[\u001b[0m\u001b[0mllab\u001b[0m\u001b[1;33m(\u001b[0m\u001b[0mlab\u001b[0m\u001b[1;33m,\u001b[0m \u001b[0minc\u001b[0m\u001b[1;33m)\u001b[0m\u001b[1;33m]\u001b[0m\u001b[1;33m\u001b[0m\u001b[1;33m\u001b[0m\u001b[0m\n\u001b[0m\u001b[0;32m   1245\u001b[0m         \u001b[0mlevels\u001b[0m \u001b[1;33m=\u001b[0m \u001b[1;33m[\u001b[0m\u001b[0mping\u001b[0m\u001b[1;33m.\u001b[0m\u001b[0mgroup_index\u001b[0m \u001b[1;32mfor\u001b[0m \u001b[0mping\u001b[0m \u001b[1;32min\u001b[0m \u001b[0mself\u001b[0m\u001b[1;33m.\u001b[0m\u001b[0mgrouper\u001b[0m\u001b[1;33m.\u001b[0m\u001b[0mgroupings\u001b[0m\u001b[1;33m]\u001b[0m \u001b[1;33m+\u001b[0m \u001b[1;33m[\u001b[0m\u001b[0mlev\u001b[0m\u001b[1;33m]\u001b[0m\u001b[1;33m\u001b[0m\u001b[1;33m\u001b[0m\u001b[0m\n\u001b[0;32m   1246\u001b[0m         \u001b[0mnames\u001b[0m \u001b[1;33m=\u001b[0m \u001b[0mself\u001b[0m\u001b[1;33m.\u001b[0m\u001b[0mgrouper\u001b[0m\u001b[1;33m.\u001b[0m\u001b[0mnames\u001b[0m \u001b[1;33m+\u001b[0m \u001b[1;33m[\u001b[0m\u001b[0mself\u001b[0m\u001b[1;33m.\u001b[0m\u001b[0m_selection_name\u001b[0m\u001b[1;33m]\u001b[0m\u001b[1;33m\u001b[0m\u001b[1;33m\u001b[0m\u001b[0m\n",
      "\u001b[1;32mD:\\anaconda3\\lib\\site-packages\\numpy\\core\\fromnumeric.py\u001b[0m in \u001b[0;36mrepeat\u001b[1;34m(a, repeats, axis)\u001b[0m\n\u001b[0;32m    469\u001b[0m \u001b[1;33m\u001b[0m\u001b[0m\n\u001b[0;32m    470\u001b[0m     \"\"\"\n\u001b[1;32m--> 471\u001b[1;33m     \u001b[1;32mreturn\u001b[0m \u001b[0m_wrapfunc\u001b[0m\u001b[1;33m(\u001b[0m\u001b[0ma\u001b[0m\u001b[1;33m,\u001b[0m \u001b[1;34m'repeat'\u001b[0m\u001b[1;33m,\u001b[0m \u001b[0mrepeats\u001b[0m\u001b[1;33m,\u001b[0m \u001b[0maxis\u001b[0m\u001b[1;33m=\u001b[0m\u001b[0maxis\u001b[0m\u001b[1;33m)\u001b[0m\u001b[1;33m\u001b[0m\u001b[1;33m\u001b[0m\u001b[0m\n\u001b[0m\u001b[0;32m    472\u001b[0m \u001b[1;33m\u001b[0m\u001b[0m\n\u001b[0;32m    473\u001b[0m \u001b[1;33m\u001b[0m\u001b[0m\n",
      "\u001b[1;32mD:\\anaconda3\\lib\\site-packages\\numpy\\core\\fromnumeric.py\u001b[0m in \u001b[0;36m_wrapfunc\u001b[1;34m(obj, method, *args, **kwds)\u001b[0m\n\u001b[0;32m     54\u001b[0m \u001b[1;32mdef\u001b[0m \u001b[0m_wrapfunc\u001b[0m\u001b[1;33m(\u001b[0m\u001b[0mobj\u001b[0m\u001b[1;33m,\u001b[0m \u001b[0mmethod\u001b[0m\u001b[1;33m,\u001b[0m \u001b[1;33m*\u001b[0m\u001b[0margs\u001b[0m\u001b[1;33m,\u001b[0m \u001b[1;33m**\u001b[0m\u001b[0mkwds\u001b[0m\u001b[1;33m)\u001b[0m\u001b[1;33m:\u001b[0m\u001b[1;33m\u001b[0m\u001b[1;33m\u001b[0m\u001b[0m\n\u001b[0;32m     55\u001b[0m     \u001b[1;32mtry\u001b[0m\u001b[1;33m:\u001b[0m\u001b[1;33m\u001b[0m\u001b[1;33m\u001b[0m\u001b[0m\n\u001b[1;32m---> 56\u001b[1;33m         \u001b[1;32mreturn\u001b[0m \u001b[0mgetattr\u001b[0m\u001b[1;33m(\u001b[0m\u001b[0mobj\u001b[0m\u001b[1;33m,\u001b[0m \u001b[0mmethod\u001b[0m\u001b[1;33m)\u001b[0m\u001b[1;33m(\u001b[0m\u001b[1;33m*\u001b[0m\u001b[0margs\u001b[0m\u001b[1;33m,\u001b[0m \u001b[1;33m**\u001b[0m\u001b[0mkwds\u001b[0m\u001b[1;33m)\u001b[0m\u001b[1;33m\u001b[0m\u001b[1;33m\u001b[0m\u001b[0m\n\u001b[0m\u001b[0;32m     57\u001b[0m \u001b[1;33m\u001b[0m\u001b[0m\n\u001b[0;32m     58\u001b[0m     \u001b[1;31m# An AttributeError occurs if the object does not have\u001b[0m\u001b[1;33m\u001b[0m\u001b[1;33m\u001b[0m\u001b[1;33m\u001b[0m\u001b[0m\n",
      "\u001b[1;31mValueError\u001b[0m: operands could not be broadcast together with shape (4,) (2,)"
     ]
    },
    {
     "data": {
      "image/png": "[encoded data removed]",
      "text/plain": [
       "<Figure size 1152x432 with 2 Axes>"
      ]
     },
     "metadata": {
      "needs_background": "light"
     },
     "output_type": "display_data"
    }
   ],
   "source": [
    "#4.7 文化程度（education）特征分布\n",
    "import seaborn as sns\n",
    "import matplotlib.pyplot as plt\n",
    "\n",
    "fig,[ax1,ax2] = plt.subplots(1,2,figsize=(16,6))\n",
    "\n",
    "# 对education列的类别设定顺序\n",
    "data['education'] = data['education'].astype('category')\n",
    "data['education'] = data['education'].cat.set_categories(['小学', '初中', '高中', '本科以上'],ordered=True)\n",
    "\n",
    "# 绘制柱状图，查看不同文化程度(education)在不同是否违约(Default)的取值分布情况\n",
    "sns.countplot(x='education',hue='Default',data=data,ax=ax1)\n",
    "\n",
    "# 将具体的计数值显示在柱形上方\n",
    "counts=data['Default'].groupby(data['education']).value_counts().values\n",
    "count1 = counts[[0, 2, 4,6]]\n",
    "count2 = counts[[1, 3, 5,7]]\n",
    "for index, item1, item2 in zip([0,1,2,3], count1, count2): \n",
    "    ax1.text(index-0.2, item1 + 0.05, '%.0f' % item1, ha=\"center\", va= \"bottom\",fontsize=12)\n",
    "    ax1.text(index+0.2, item2 + 0.05, '%.0f' % item2, ha=\"center\", va= \"bottom\",fontsize=12)\n",
    "\n",
    "\n",
    "# 绘制柱状图查看违约率分布\n",
    "education_rate = data.groupby('education')['Default'].sum() / data.groupby('education')['Default'].count()\n",
    "sns.barplot(x=[0,1,2,3],y=education_rate.values,ax=ax2)\n",
    "\n",
    "# 将具体的计数值显示在柱形上方\n",
    "for index, item in zip([0,1,2,3], education_rate): \n",
    "     ax2.text(index, item, '%.2f' % item, ha=\"center\", va= \"bottom\",fontsize=12)\n",
    "        \n",
    "# 设置柱形名称\n",
    "ax1.set_xticklabels(['小学','初中','高中','本科以上'])\n",
    "ax2.set_xticklabels(['小学','初中','高中','本科以上'])\n",
    "\n",
    "# 设置图例名称\n",
    "ax1.legend(labels=['未违约','违约'])\n",
    "\n",
    "# 设置标题以及字体大小\n",
    "ax1.set_title('不同文化程度下不同违约情况数量分布柱状图',size=13)\n",
    "ax2.set_title('不同文化程度下违约率分布柱状图',size=13)\n",
    "\n",
    "# 设置x,y轴标签\n",
    "ax1.set_xlabel('education')\n",
    "ax1.set_ylabel('客户人数')\n",
    "ax2.set_xlabel('education')\n",
    "ax2.set_ylabel('违约率')\n",
    "\n",
    "#显示汉语标注\n",
    "plt.rcParams['font.sans-serif']=['SimHei'] \n",
    "plt.rcParams['font.family']=['sans-serif']\n",
    "plt.show()"
   ]
  },
  {
   "cell_type": "code",
   "execution_count": 44,
   "metadata": {},
   "outputs": [
    {
     "ename": "IndexError",
     "evalue": "index 2 is out of bounds for axis 0 with size 2",
     "output_type": "error",
     "traceback": [
      "\u001b[1;31m---------------------------------------------------------------------------\u001b[0m",
      "\u001b[1;31mIndexError\u001b[0m                                Traceback (most recent call last)",
      "\u001b[1;32m<ipython-input-44-4b02af96f189>\u001b[0m in \u001b[0;36m<module>\u001b[1;34m\u001b[0m\n\u001b[0;32m     14\u001b[0m \u001b[1;31m# 将具体的计数值显示在柱形上方\u001b[0m\u001b[1;33m\u001b[0m\u001b[1;33m\u001b[0m\u001b[1;33m\u001b[0m\u001b[0m\n\u001b[0;32m     15\u001b[0m \u001b[0mcounts\u001b[0m\u001b[1;33m=\u001b[0m\u001b[0mdata\u001b[0m\u001b[1;33m[\u001b[0m\u001b[1;34m'Default'\u001b[0m\u001b[1;33m]\u001b[0m\u001b[1;33m.\u001b[0m\u001b[0mgroupby\u001b[0m\u001b[1;33m(\u001b[0m\u001b[0mdata\u001b[0m\u001b[1;33m[\u001b[0m\u001b[1;34m'threeVerify'\u001b[0m\u001b[1;33m]\u001b[0m\u001b[1;33m)\u001b[0m\u001b[1;33m.\u001b[0m\u001b[0mvalue_counts\u001b[0m\u001b[1;33m(\u001b[0m\u001b[1;33m)\u001b[0m\u001b[1;33m.\u001b[0m\u001b[0mvalues\u001b[0m\u001b[1;33m\u001b[0m\u001b[1;33m\u001b[0m\u001b[0m\n\u001b[1;32m---> 16\u001b[1;33m \u001b[0mcount1\u001b[0m \u001b[1;33m=\u001b[0m \u001b[0mcounts\u001b[0m\u001b[1;33m[\u001b[0m\u001b[1;33m[\u001b[0m\u001b[1;36m0\u001b[0m\u001b[1;33m,\u001b[0m \u001b[1;36m2\u001b[0m\u001b[1;33m]\u001b[0m\u001b[1;33m]\u001b[0m\u001b[1;33m\u001b[0m\u001b[1;33m\u001b[0m\u001b[0m\n\u001b[0m\u001b[0;32m     17\u001b[0m \u001b[0mcount2\u001b[0m \u001b[1;33m=\u001b[0m \u001b[0mcounts\u001b[0m\u001b[1;33m[\u001b[0m\u001b[1;33m[\u001b[0m\u001b[1;36m1\u001b[0m\u001b[1;33m,\u001b[0m \u001b[1;36m3\u001b[0m\u001b[1;33m]\u001b[0m\u001b[1;33m]\u001b[0m\u001b[1;33m\u001b[0m\u001b[1;33m\u001b[0m\u001b[0m\n\u001b[0;32m     18\u001b[0m \u001b[1;32mfor\u001b[0m \u001b[0mindex\u001b[0m\u001b[1;33m,\u001b[0m \u001b[0mitem1\u001b[0m\u001b[1;33m,\u001b[0m \u001b[0mitem2\u001b[0m \u001b[1;32min\u001b[0m \u001b[0mzip\u001b[0m\u001b[1;33m(\u001b[0m\u001b[1;33m[\u001b[0m\u001b[1;36m0\u001b[0m\u001b[1;33m,\u001b[0m\u001b[1;36m1\u001b[0m\u001b[1;33m,\u001b[0m\u001b[1;36m2\u001b[0m\u001b[1;33m,\u001b[0m\u001b[1;36m3\u001b[0m\u001b[1;33m]\u001b[0m\u001b[1;33m,\u001b[0m \u001b[0mcount1\u001b[0m\u001b[1;33m,\u001b[0m \u001b[0mcount2\u001b[0m\u001b[1;33m)\u001b[0m\u001b[1;33m:\u001b[0m\u001b[1;33m\u001b[0m\u001b[1;33m\u001b[0m\u001b[0m\n",
      "\u001b[1;31mIndexError\u001b[0m: index 2 is out of bounds for axis 0 with size 2"
     ]
    },
    {
     "data": {
      "image/png": "[encoded data removed]",
      "text/plain": [
       "<Figure size 1152x432 with 2 Axes>"
      ]
     },
     "metadata": {
      "needs_background": "light"
     },
     "output_type": "display_data"
    }
   ],
   "source": [
    "#4.8 三要素（threeVerify）特征分布\n",
    "import seaborn as sns\n",
    "import matplotlib.pyplot as plt\n",
    "\n",
    "fig,[ax1,ax2] = plt.subplots(1,2,figsize=(16,6))\n",
    "\n",
    "# 对threeVerify列的类别设定顺序\n",
    "data['threeVerify'] = data['threeVerify'].astype('category')\n",
    "data['threeVerify'] = data['threeVerify'].cat.set_categories(['一致','不一致'],ordered=True)\n",
    "\n",
    "# 绘制柱状图，查看不同三要素验证情况(threeVerify)在不同是否违约(Default)的取值分布情况\n",
    "sns.countplot(x='threeVerify',hue='Default',data=data,ax=ax1)\n",
    "\n",
    "# 将具体的计数值显示在柱形上方\n",
    "counts=data['Default'].groupby(data['threeVerify']).value_counts().values\n",
    "count1 = counts[[0, 2]]\n",
    "count2 = counts[[1, 3]]\n",
    "for index, item1, item2 in zip([0,1,2,3], count1, count2): \n",
    "    ax1.text(index-0.2, item1 + 0.05, '%.0f' % item1, ha=\"center\", va= \"bottom\",fontsize=12)\n",
    "    ax1.text(index+0.2, item2 + 0.05, '%.0f' % item2, ha=\"center\", va= \"bottom\",fontsize=12)\n",
    "\n",
    "\n",
    "# 绘制柱状图查看违约率分布\n",
    "threeVerify_rate = data.groupby('threeVerify')['Default'].sum() / data.groupby('threeVerify')['Default'].count()\n",
    "sns.barplot(x=[0,1],y=threeVerify_rate.values,ax=ax2)\n",
    "\n",
    "# 将具体的计数值显示在柱形上方\n",
    "for index, item in zip([0,1], threeVerify_rate): \n",
    "     ax2.text(index, item, '%.2f' % item, ha=\"center\", va= \"bottom\",fontsize=12)\n",
    "        \n",
    "# 设置柱形名称\n",
    "ax1.set_xticklabels(['一致','不一致'])\n",
    "ax2.set_xticklabels(['一致','不一致'])\n",
    "\n",
    "# 设置图例名称\n",
    "ax1.legend(labels=['未违约','违约'])\n",
    "\n",
    "# 设置标题以及字体大小\n",
    "ax1.set_title('不同三要素验证下不同违约情况数量分布柱状图',size=13)\n",
    "ax2.set_title('不同三要素验证下违约率分布柱状图',size=13)\n",
    "\n",
    "# 设置x,y轴标签\n",
    "ax1.set_xlabel('threeVerify')\n",
    "ax1.set_ylabel('客户人数')\n",
    "ax2.set_xlabel('threeVerify')\n",
    "ax2.set_ylabel('违约率')\n",
    "\n",
    "#显示汉语标注\n",
    "plt.rcParams['font.sans-serif']=['SimHei'] \n",
    "plt.rcParams['font.family']=['sans-serif']\n",
    "plt.show()"
   ]
  },
  {
   "cell_type": "code",
   "execution_count": 45,
   "metadata": {},
   "outputs": [
    {
     "ename": "IndexError",
     "evalue": "index 2 is out of bounds for axis 0 with size 2",
     "output_type": "error",
     "traceback": [
      "\u001b[1;31m---------------------------------------------------------------------------\u001b[0m",
      "\u001b[1;31mIndexError\u001b[0m                                Traceback (most recent call last)",
      "\u001b[1;32m<ipython-input-45-1796b1de1da5>\u001b[0m in \u001b[0;36m<module>\u001b[1;34m\u001b[0m\n\u001b[0;32m     14\u001b[0m \u001b[1;31m# 将具体的计数值显示在柱形上方\u001b[0m\u001b[1;33m\u001b[0m\u001b[1;33m\u001b[0m\u001b[1;33m\u001b[0m\u001b[0m\n\u001b[0;32m     15\u001b[0m \u001b[0mcounts\u001b[0m\u001b[1;33m=\u001b[0m\u001b[0mdata\u001b[0m\u001b[1;33m[\u001b[0m\u001b[1;34m'Default'\u001b[0m\u001b[1;33m]\u001b[0m\u001b[1;33m.\u001b[0m\u001b[0mgroupby\u001b[0m\u001b[1;33m(\u001b[0m\u001b[0mdata\u001b[0m\u001b[1;33m[\u001b[0m\u001b[1;34m'maritalStatus'\u001b[0m\u001b[1;33m]\u001b[0m\u001b[1;33m)\u001b[0m\u001b[1;33m.\u001b[0m\u001b[0mvalue_counts\u001b[0m\u001b[1;33m(\u001b[0m\u001b[1;33m)\u001b[0m\u001b[1;33m.\u001b[0m\u001b[0mvalues\u001b[0m\u001b[1;33m\u001b[0m\u001b[1;33m\u001b[0m\u001b[0m\n\u001b[1;32m---> 16\u001b[1;33m \u001b[0mcount1\u001b[0m \u001b[1;33m=\u001b[0m \u001b[0mcounts\u001b[0m\u001b[1;33m[\u001b[0m\u001b[1;33m[\u001b[0m\u001b[1;36m0\u001b[0m\u001b[1;33m,\u001b[0m \u001b[1;36m2\u001b[0m\u001b[1;33m]\u001b[0m\u001b[1;33m]\u001b[0m\u001b[1;33m\u001b[0m\u001b[1;33m\u001b[0m\u001b[0m\n\u001b[0m\u001b[0;32m     17\u001b[0m \u001b[0mcount2\u001b[0m \u001b[1;33m=\u001b[0m \u001b[0mcounts\u001b[0m\u001b[1;33m[\u001b[0m\u001b[1;33m[\u001b[0m\u001b[1;36m1\u001b[0m\u001b[1;33m,\u001b[0m \u001b[1;36m3\u001b[0m\u001b[1;33m]\u001b[0m\u001b[1;33m]\u001b[0m\u001b[1;33m\u001b[0m\u001b[1;33m\u001b[0m\u001b[0m\n\u001b[0;32m     18\u001b[0m \u001b[1;32mfor\u001b[0m \u001b[0mindex\u001b[0m\u001b[1;33m,\u001b[0m \u001b[0mitem1\u001b[0m\u001b[1;33m,\u001b[0m \u001b[0mitem2\u001b[0m \u001b[1;32min\u001b[0m \u001b[0mzip\u001b[0m\u001b[1;33m(\u001b[0m\u001b[1;33m[\u001b[0m\u001b[1;36m0\u001b[0m\u001b[1;33m,\u001b[0m\u001b[1;36m1\u001b[0m\u001b[1;33m,\u001b[0m\u001b[1;36m2\u001b[0m\u001b[1;33m,\u001b[0m\u001b[1;36m3\u001b[0m\u001b[1;33m]\u001b[0m\u001b[1;33m,\u001b[0m \u001b[0mcount1\u001b[0m\u001b[1;33m,\u001b[0m \u001b[0mcount2\u001b[0m\u001b[1;33m)\u001b[0m\u001b[1;33m:\u001b[0m\u001b[1;33m\u001b[0m\u001b[1;33m\u001b[0m\u001b[0m\n",
      "\u001b[1;31mIndexError\u001b[0m: index 2 is out of bounds for axis 0 with size 2"
     ]
    },
    {
     "data": {
      "image/png": "[encoded data removed]",
      "text/plain": [
       "<Figure size 1152x432 with 2 Axes>"
      ]
     },
     "metadata": {
      "needs_background": "light"
     },
     "output_type": "display_data"
    }
   ],
   "source": [
    "#4.9 婚姻状况（maritalStatus）特征分布\n",
    "import seaborn as sns\n",
    "import matplotlib.pyplot as plt\n",
    "\n",
    "fig,[ax1,ax2] = plt.subplots(1,2,figsize=(16,6))\n",
    "\n",
    "# 对maritalStatus列的类别设定顺序\n",
    "data['maritalStatus'] = data['maritalStatus'].astype('category')\n",
    "data['maritalStatus'] = data['maritalStatus'].cat.set_categories(['未婚','已婚'],ordered=True)\n",
    "\n",
    "# 绘制柱状图，查看不同婚姻状况在不同违约情况的取值分布\n",
    "sns.countplot(x='maritalStatus',hue='Default',data=data,ax=ax1)\n",
    "\n",
    "# 将具体的计数值显示在柱形上方\n",
    "counts=data['Default'].groupby(data['maritalStatus']).value_counts().values\n",
    "count1 = counts[[0, 2]]\n",
    "count2 = counts[[1, 3]]\n",
    "for index, item1, item2 in zip([0,1,2,3], count1, count2): \n",
    "    ax1.text(index-0.2, item1 + 0.05, '%.0f' % item1, ha=\"center\", va= \"bottom\",fontsize=12)\n",
    "    ax1.text(index+0.2, item2 + 0.05, '%.0f' % item2, ha=\"center\", va= \"bottom\",fontsize=12)\n",
    "\n",
    "\n",
    "# 绘制柱状图查看违约率分布\n",
    "maritalStatus_rate = data.groupby('maritalStatus')['Default'].sum() / data.groupby('maritalStatus')['Default'].count()\n",
    "sns.barplot(x=[0,1],y=maritalStatus_rate.values,ax=ax2)\n",
    "\n",
    "# 将具体的计数值显示在柱形上方\n",
    "for index, item in zip([0,1], maritalStatus_rate): \n",
    "     ax2.text(index, item, '%.2f' % item, ha=\"center\", va= \"bottom\",fontsize=12)\n",
    "        \n",
    "# 设置柱形名称\n",
    "ax1.set_xticklabels(['未婚','已婚'])\n",
    "ax2.set_xticklabels(['未婚','已婚'])\n",
    "\n",
    "# 设置图例名称\n",
    "ax1.legend(labels=['未违约','违约'])\n",
    "\n",
    "# 设置标题以及字体大小\n",
    "ax1.set_title('不同婚姻状况下不同违约情况数量分布柱状图',size=13)\n",
    "ax2.set_title('不同婚姻状况下违约率分布柱状图',size=13)\n",
    "\n",
    "# 设置x,y轴标签\n",
    "ax1.set_xlabel('maritalStatus')\n",
    "ax1.set_ylabel('客户人数')\n",
    "ax2.set_xlabel('maritalStatus')\n",
    "ax2.set_ylabel('违约率')\n",
    "\n",
    "#显示汉语标注\n",
    "plt.rcParams['font.sans-serif']=['SimHei'] \n",
    "plt.rcParams['font.family']=['sans-serif']\n",
    "plt.show()"
   ]
  },
  {
   "cell_type": "code",
   "execution_count": 46,
   "metadata": {},
   "outputs": [
    {
     "ename": "ValueError",
     "evalue": "operands could not be broadcast together with shape (5,) (4,)",
     "output_type": "error",
     "traceback": [
      "\u001b[1;31m---------------------------------------------------------------------------\u001b[0m",
      "\u001b[1;31mValueError\u001b[0m                                Traceback (most recent call last)",
      "\u001b[1;32m<ipython-input-46-99ce5806a21d>\u001b[0m in \u001b[0;36m<module>\u001b[1;34m\u001b[0m\n\u001b[0;32m     13\u001b[0m \u001b[1;33m\u001b[0m\u001b[0m\n\u001b[0;32m     14\u001b[0m \u001b[1;31m# 将具体的计数值显示在柱形上方\u001b[0m\u001b[1;33m\u001b[0m\u001b[1;33m\u001b[0m\u001b[1;33m\u001b[0m\u001b[0m\n\u001b[1;32m---> 15\u001b[1;33m \u001b[0mcounts\u001b[0m\u001b[1;33m=\u001b[0m\u001b[0mdata\u001b[0m\u001b[1;33m[\u001b[0m\u001b[1;34m'Default'\u001b[0m\u001b[1;33m]\u001b[0m\u001b[1;33m.\u001b[0m\u001b[0mgroupby\u001b[0m\u001b[1;33m(\u001b[0m\u001b[0mdata\u001b[0m\u001b[1;33m[\u001b[0m\u001b[1;34m'netLength'\u001b[0m\u001b[1;33m]\u001b[0m\u001b[1;33m)\u001b[0m\u001b[1;33m.\u001b[0m\u001b[0mvalue_counts\u001b[0m\u001b[1;33m(\u001b[0m\u001b[1;33m)\u001b[0m\u001b[1;33m.\u001b[0m\u001b[0mvalues\u001b[0m\u001b[1;33m\u001b[0m\u001b[1;33m\u001b[0m\u001b[0m\n\u001b[0m\u001b[0;32m     16\u001b[0m \u001b[0mcount1\u001b[0m \u001b[1;33m=\u001b[0m \u001b[0mcounts\u001b[0m\u001b[1;33m[\u001b[0m\u001b[1;33m[\u001b[0m\u001b[1;36m0\u001b[0m\u001b[1;33m,\u001b[0m\u001b[1;36m2\u001b[0m\u001b[1;33m,\u001b[0m\u001b[1;36m4\u001b[0m\u001b[1;33m,\u001b[0m\u001b[1;36m6\u001b[0m\u001b[1;33m,\u001b[0m\u001b[1;36m8\u001b[0m\u001b[1;33m]\u001b[0m\u001b[1;33m]\u001b[0m\u001b[1;33m\u001b[0m\u001b[1;33m\u001b[0m\u001b[0m\n\u001b[0;32m     17\u001b[0m \u001b[0mcount2\u001b[0m \u001b[1;33m=\u001b[0m \u001b[0mcounts\u001b[0m\u001b[1;33m[\u001b[0m\u001b[1;33m[\u001b[0m\u001b[1;36m1\u001b[0m\u001b[1;33m,\u001b[0m\u001b[1;36m3\u001b[0m\u001b[1;33m,\u001b[0m\u001b[1;36m5\u001b[0m\u001b[1;33m,\u001b[0m\u001b[1;36m7\u001b[0m\u001b[1;33m,\u001b[0m\u001b[1;36m9\u001b[0m\u001b[1;33m]\u001b[0m\u001b[1;33m]\u001b[0m\u001b[1;33m\u001b[0m\u001b[1;33m\u001b[0m\u001b[0m\n",
      "\u001b[1;32mD:\\anaconda3\\lib\\site-packages\\pandas\\core\\groupby\\generic.py\u001b[0m in \u001b[0;36mvalue_counts\u001b[1;34m(self, normalize, sort, ascending, bins, dropna)\u001b[0m\n\u001b[0;32m   1242\u001b[0m \u001b[1;33m\u001b[0m\u001b[0m\n\u001b[0;32m   1243\u001b[0m         \u001b[1;31m# multi-index components\u001b[0m\u001b[1;33m\u001b[0m\u001b[1;33m\u001b[0m\u001b[1;33m\u001b[0m\u001b[0m\n\u001b[1;32m-> 1244\u001b[1;33m         \u001b[0mlabels\u001b[0m \u001b[1;33m=\u001b[0m \u001b[0mlist\u001b[0m\u001b[1;33m(\u001b[0m\u001b[0mmap\u001b[0m\u001b[1;33m(\u001b[0m\u001b[0mrep\u001b[0m\u001b[1;33m,\u001b[0m \u001b[0mself\u001b[0m\u001b[1;33m.\u001b[0m\u001b[0mgrouper\u001b[0m\u001b[1;33m.\u001b[0m\u001b[0mrecons_labels\u001b[0m\u001b[1;33m)\u001b[0m\u001b[1;33m)\u001b[0m \u001b[1;33m+\u001b[0m \u001b[1;33m[\u001b[0m\u001b[0mllab\u001b[0m\u001b[1;33m(\u001b[0m\u001b[0mlab\u001b[0m\u001b[1;33m,\u001b[0m \u001b[0minc\u001b[0m\u001b[1;33m)\u001b[0m\u001b[1;33m]\u001b[0m\u001b[1;33m\u001b[0m\u001b[1;33m\u001b[0m\u001b[0m\n\u001b[0m\u001b[0;32m   1245\u001b[0m         \u001b[0mlevels\u001b[0m \u001b[1;33m=\u001b[0m \u001b[1;33m[\u001b[0m\u001b[0mping\u001b[0m\u001b[1;33m.\u001b[0m\u001b[0mgroup_index\u001b[0m \u001b[1;32mfor\u001b[0m \u001b[0mping\u001b[0m \u001b[1;32min\u001b[0m \u001b[0mself\u001b[0m\u001b[1;33m.\u001b[0m\u001b[0mgrouper\u001b[0m\u001b[1;33m.\u001b[0m\u001b[0mgroupings\u001b[0m\u001b[1;33m]\u001b[0m \u001b[1;33m+\u001b[0m \u001b[1;33m[\u001b[0m\u001b[0mlev\u001b[0m\u001b[1;33m]\u001b[0m\u001b[1;33m\u001b[0m\u001b[1;33m\u001b[0m\u001b[0m\n\u001b[0;32m   1246\u001b[0m         \u001b[0mnames\u001b[0m \u001b[1;33m=\u001b[0m \u001b[0mself\u001b[0m\u001b[1;33m.\u001b[0m\u001b[0mgrouper\u001b[0m\u001b[1;33m.\u001b[0m\u001b[0mnames\u001b[0m \u001b[1;33m+\u001b[0m \u001b[1;33m[\u001b[0m\u001b[0mself\u001b[0m\u001b[1;33m.\u001b[0m\u001b[0m_selection_name\u001b[0m\u001b[1;33m]\u001b[0m\u001b[1;33m\u001b[0m\u001b[1;33m\u001b[0m\u001b[0m\n",
      "\u001b[1;32mD:\\anaconda3\\lib\\site-packages\\numpy\\core\\fromnumeric.py\u001b[0m in \u001b[0;36mrepeat\u001b[1;34m(a, repeats, axis)\u001b[0m\n\u001b[0;32m    469\u001b[0m \u001b[1;33m\u001b[0m\u001b[0m\n\u001b[0;32m    470\u001b[0m     \"\"\"\n\u001b[1;32m--> 471\u001b[1;33m     \u001b[1;32mreturn\u001b[0m \u001b[0m_wrapfunc\u001b[0m\u001b[1;33m(\u001b[0m\u001b[0ma\u001b[0m\u001b[1;33m,\u001b[0m \u001b[1;34m'repeat'\u001b[0m\u001b[1;33m,\u001b[0m \u001b[0mrepeats\u001b[0m\u001b[1;33m,\u001b[0m \u001b[0maxis\u001b[0m\u001b[1;33m=\u001b[0m\u001b[0maxis\u001b[0m\u001b[1;33m)\u001b[0m\u001b[1;33m\u001b[0m\u001b[1;33m\u001b[0m\u001b[0m\n\u001b[0m\u001b[0;32m    472\u001b[0m \u001b[1;33m\u001b[0m\u001b[0m\n\u001b[0;32m    473\u001b[0m \u001b[1;33m\u001b[0m\u001b[0m\n",
      "\u001b[1;32mD:\\anaconda3\\lib\\site-packages\\numpy\\core\\fromnumeric.py\u001b[0m in \u001b[0;36m_wrapfunc\u001b[1;34m(obj, method, *args, **kwds)\u001b[0m\n\u001b[0;32m     54\u001b[0m \u001b[1;32mdef\u001b[0m \u001b[0m_wrapfunc\u001b[0m\u001b[1;33m(\u001b[0m\u001b[0mobj\u001b[0m\u001b[1;33m,\u001b[0m \u001b[0mmethod\u001b[0m\u001b[1;33m,\u001b[0m \u001b[1;33m*\u001b[0m\u001b[0margs\u001b[0m\u001b[1;33m,\u001b[0m \u001b[1;33m**\u001b[0m\u001b[0mkwds\u001b[0m\u001b[1;33m)\u001b[0m\u001b[1;33m:\u001b[0m\u001b[1;33m\u001b[0m\u001b[1;33m\u001b[0m\u001b[0m\n\u001b[0;32m     55\u001b[0m     \u001b[1;32mtry\u001b[0m\u001b[1;33m:\u001b[0m\u001b[1;33m\u001b[0m\u001b[1;33m\u001b[0m\u001b[0m\n\u001b[1;32m---> 56\u001b[1;33m         \u001b[1;32mreturn\u001b[0m \u001b[0mgetattr\u001b[0m\u001b[1;33m(\u001b[0m\u001b[0mobj\u001b[0m\u001b[1;33m,\u001b[0m \u001b[0mmethod\u001b[0m\u001b[1;33m)\u001b[0m\u001b[1;33m(\u001b[0m\u001b[1;33m*\u001b[0m\u001b[0margs\u001b[0m\u001b[1;33m,\u001b[0m \u001b[1;33m**\u001b[0m\u001b[0mkwds\u001b[0m\u001b[1;33m)\u001b[0m\u001b[1;33m\u001b[0m\u001b[1;33m\u001b[0m\u001b[0m\n\u001b[0m\u001b[0;32m     57\u001b[0m \u001b[1;33m\u001b[0m\u001b[0m\n\u001b[0;32m     58\u001b[0m     \u001b[1;31m# An AttributeError occurs if the object does not have\u001b[0m\u001b[1;33m\u001b[0m\u001b[1;33m\u001b[0m\u001b[1;33m\u001b[0m\u001b[0m\n",
      "\u001b[1;31mValueError\u001b[0m: operands could not be broadcast together with shape (5,) (4,)"
     ]
    },
    {
     "data": {
      "image/png": "[encoded data removed]",
      "text/plain": [
       "<Figure size 1152x432 with 2 Axes>"
      ]
     },
     "metadata": {
      "needs_background": "light"
     },
     "output_type": "display_data"
    }
   ],
   "source": [
    "#4.10 在网时长（netLength）特征分布\n",
    "import seaborn as sns\n",
    "import matplotlib.pyplot as plt\n",
    "\n",
    "fig,[ax1,ax2] = plt.subplots(1,2,figsize=(16,6))\n",
    "\n",
    "# 对netLength列的类别设定顺序\n",
    "data['netLength'] = data['netLength'].astype('category')\n",
    "data['netLength'] = data['netLength'].cat.set_categories(['0-6个月','6-12个月','12-24个月','24个月以上','无效'],ordered=True)\n",
    "\n",
    "# 绘制柱状图，查看不同在网时长在不同违约情况的取值分布\n",
    "sns.countplot(x='netLength',hue='Default',data=data,ax=ax1)\n",
    "\n",
    "# 将具体的计数值显示在柱形上方\n",
    "counts=data['Default'].groupby(data['netLength']).value_counts().values\n",
    "count1 = counts[[0,2,4,6,8]]\n",
    "count2 = counts[[1,3,5,7,9]]\n",
    "\n",
    "# 将具体的计数值显示在柱形上方\n",
    "for index, item1, item2 in zip([0,1,2,3,4], count1, count2): \n",
    "    ax1.text(index-0.2, item1 + 0.05, '%.0f' % item1, ha=\"center\", va= \"bottom\",fontsize=12)\n",
    "    ax1.text(index+0.2, item2 + 0.05, '%.0f' % item2, ha=\"center\", va= \"bottom\",fontsize=12)\n",
    "\n",
    "\n",
    "# 绘制柱状图查看违约率分布\n",
    "netLength_rate = data.groupby('netLength')['Default'].sum() / data.groupby('netLength')['Default'].count()\n",
    "sns.barplot(x=[0,1,2,3,4],y=netLength_rate.values,ax=ax2)\n",
    "\n",
    "# 将具体的计数值显示在柱形上方\n",
    "for index, item in zip([0,1,2,3,4], netLength_rate): \n",
    "     ax2.text(index, item, '%.2f' % item, ha=\"center\", va= \"bottom\",fontsize=12)\n",
    "        \n",
    "# 设置柱形名称\n",
    "ax1.set_xticklabels(['0-6个月','6-12个月','12-24个月','24个月以上','无效'])\n",
    "ax2.set_xticklabels(['0-6个月','6-12个月','12-24个月','24个月以上','无效'])\n",
    "\n",
    "# 设置图例名称\n",
    "ax1.legend(labels=['未违约','违约'])\n",
    "\n",
    "# 设置标题以及字体大小\n",
    "ax1.set_title('不同在网时长下不同违约情况数量分布柱状图',size=13)\n",
    "ax2.set_title('不同在网时长下违约率分布柱状图',size=13)\n",
    "\n",
    "# 设置x,y轴标签\n",
    "ax1.set_xlabel('netLength')\n",
    "ax1.set_ylabel('客户人数')\n",
    "ax2.set_xlabel('netLength')\n",
    "ax2.set_ylabel('违约率')\n",
    "\n",
    "#显示汉语标注\n",
    "plt.rcParams['font.sans-serif']=['SimHei'] \n",
    "plt.rcParams['font.family']=['sans-serif']\n",
    "plt.show()"
   ]
  },
  {
   "cell_type": "code",
   "execution_count": 47,
   "metadata": {},
   "outputs": [
    {
     "data": {
      "text/plain": [
       "<matplotlib.axes._subplots.AxesSubplot at 0x229fc55c908>"
      ]
     },
     "execution_count": 47,
     "metadata": {},
     "output_type": "execute_result"
    },
    {
     "name": "stderr",
     "output_type": "stream",
     "text": [
      "D:\\anaconda3\\lib\\site-packages\\matplotlib\\backends\\backend_agg.py:211: RuntimeWarning: Glyph 8722 missing from current font.\n",
      "  font.set_text(s, 0.0, flags=flags)\n",
      "D:\\anaconda3\\lib\\site-packages\\matplotlib\\backends\\backend_agg.py:180: RuntimeWarning: Glyph 8722 missing from current font.\n",
      "  font.set_text(s, 0, flags=flags)\n"
     ]
    },
    {
     "data": {
      "image/png": "[encoded data removed]",
      "text/plain": [
       "<Figure size 1152x360 with 2 Axes>"
      ]
     },
     "metadata": {
      "needs_background": "light"
     },
     "output_type": "display_data"
    }
   ],
   "source": [
    "#4.11 总消费金额（transTotalAmt）的分布\n",
    "import seaborn as sns\n",
    "import matplotlib.pyplot as plt\n",
    "\n",
    "# 建立画布ax1和ax2,及设置图像大小，设置subplots()函数中参数为(1,2)表示两画图呈一行两列\n",
    "fig, [ax1,ax2] = plt.subplots(1, 2, figsize=(16, 5))\n",
    "\n",
    "# 在画布ax1中画出总消费金额的核密度图\n",
    "sns.kdeplot(data['transTotalAmt'],shade=False,ax=ax1)\n",
    "\n",
    "# 在画布ax2中画出总消费笔数和总消费金额的回归关系图\n",
    "sns.regplot(x='transTotalCnt',y='transTotalAmt',data=data,ax=ax2)"
   ]
  },
  {
   "cell_type": "code",
   "execution_count": 48,
   "metadata": {},
   "outputs": [
    {
     "data": {
      "image/png": "[encoded data removed]",
      "text/plain": [
       "<Figure size 1152x432 with 2 Axes>"
      ]
     },
     "metadata": {
      "needs_background": "light"
     },
     "output_type": "display_data"
    }
   ],
   "source": [
    "#4.12 年龄和开卡时长分布\n",
    "import seaborn as sns\n",
    "import matplotlib.pyplot as plt\n",
    "\n",
    "# 建立画布ax1和ax2,及设置图像大小，设置subplots()函数中参数为(1,2)表示一行两列\n",
    "fig,[ax1,ax2] = plt.subplots(1,2,figsize=(16,6))\n",
    "\n",
    "# 在画布ax1中绘制年龄的直方图，颜色为红色\n",
    "sns.distplot(data['age'],color='r',ax=ax1)\n",
    "\n",
    "# 在画布ax2中绘制开卡时长的直方图，颜色为默认值\n",
    "sns.distplot(data['card_age'],ax=ax2)\n",
    "\n",
    "# 在画布ax1、ax2中设置标题\n",
    "ax1.set_title('年龄分布')\n",
    "ax2.set_title('开卡时长分布')\n",
    "# 显示汉语标注\n",
    "plt.rcParams['font.sans-serif']=['SimHei'] \n",
    "plt.rcParams['font.family']=['sans-serif']"
   ]
  },
  {
   "cell_type": "code",
   "execution_count": 49,
   "metadata": {},
   "outputs": [
    {
     "data": {
      "text/plain": [
       "<matplotlib.axes._subplots.AxesSubplot at 0x229fd4fbe48>"
      ]
     },
     "execution_count": 49,
     "metadata": {},
     "output_type": "execute_result"
    },
    {
     "data": {
      "image/png": "[encoded data removed]",
      "text/plain": [
       "<Figure size 1152x360 with 2 Axes>"
      ]
     },
     "metadata": {
      "needs_background": "light"
     },
     "output_type": "display_data"
    }
   ],
   "source": [
    "#4.13 总取现金额（cashTotalAmt）的分布\n",
    "import seaborn as sns\n",
    "import matplotlib.pyplot as plt\n",
    "\n",
    "# 建立画布ax1和ax2,及设置图像大小，设置subplots()函数中参数为(1,2)表示两画图呈一行两列\n",
    "fig, [ax1,ax2] = plt.subplots(1, 2, figsize=(16, 5))\n",
    "\n",
    "# 在画布ax1中画出总取现金额的核密度图\n",
    "sns.kdeplot(data['cashTotalCnt'],shade=True,ax=ax1)\n",
    "\n",
    "# 在画布ax2中画出总取现笔数和总取现金额的回归关系图\n",
    "sns.regplot(x='cashTotalCnt',y='cashTotalAmt',data=data,ax=ax2)"
   ]
  },
  {
   "cell_type": "code",
   "execution_count": 50,
   "metadata": {},
   "outputs": [
    {
     "data": {
      "text/plain": [
       "<matplotlib.axes._subplots.AxesSubplot at 0x229fc22e448>"
      ]
     },
     "execution_count": 50,
     "metadata": {},
     "output_type": "execute_result"
    },
    {
     "data": {
      "image/png": "[encoded data removed]",
      "text/plain": [
       "<Figure size 1152x360 with 2 Axes>"
      ]
     },
     "metadata": {
      "needs_background": "light"
     },
     "output_type": "display_data"
    }
   ],
   "source": [
    "#4.14 网上消费金额（onlineTransAmt）的分布\n",
    "import seaborn as sns\n",
    "import matplotlib.pyplot as plt\n",
    "\n",
    "# 建立画布ax1和ax2,及设置图像大小，设置subplots()函数中参数为(1,2)表示两画图呈一行两列\n",
    "fig, [ax1,ax2] = plt.subplots(1, 2, figsize=(16, 5))\n",
    "\n",
    "# 在画布ax1中画出网上消费金额的核密度估计曲线\n",
    "sns.kdeplot(data['onlineTransAmt'],shade=True,ax=ax1)\n",
    "\n",
    "# 在画布ax2中画出网上消费笔数和网上消费金额的回归关系图\n",
    "sns.regplot(x='onlineTransCnt',y='onlineTransAmt',data=data,ax=ax2)"
   ]
  },
  {
   "cell_type": "code",
   "execution_count": 51,
   "metadata": {},
   "outputs": [
    {
     "name": "stdout",
     "output_type": "stream",
     "text": [
      "idVerify         2\n",
      "maritalStatus    1\n",
      "dtype: int64\n"
     ]
    }
   ],
   "source": [
    "#4.15 查看存在缺失值的特征\n",
    "# 计算特征缺失值个数\n",
    "na_counts = data.isnull().sum()\n",
    "\n",
    "# 将na_counts取大于0的部分进行降序排序\n",
    "missing_value = na_counts[na_counts > 0].sort_values(axis=0,ascending=False)\n",
    "\n",
    "# 查看存在缺失值的特征\n",
    "print(missing_value)"
   ]
  },
  {
   "cell_type": "code",
   "execution_count": 52,
   "metadata": {},
   "outputs": [
    {
     "ename": "ValueError",
     "evalue": "fill value must be in categories",
     "output_type": "error",
     "traceback": [
      "\u001b[1;31m---------------------------------------------------------------------------\u001b[0m",
      "\u001b[1;31mValueError\u001b[0m                                Traceback (most recent call last)",
      "\u001b[1;32m<ipython-input-52-15ee2b1cc6fd>\u001b[0m in \u001b[0;36m<module>\u001b[1;34m\u001b[0m\n\u001b[0;32m      6\u001b[0m \u001b[0mfilling_columns\u001b[0m\u001b[1;33m=\u001b[0m\u001b[1;33m[\u001b[0m\u001b[1;34m'sex'\u001b[0m\u001b[1;33m,\u001b[0m\u001b[1;34m'maritalStatus'\u001b[0m\u001b[1;33m,\u001b[0m\u001b[1;34m'threeVerify'\u001b[0m\u001b[1;33m,\u001b[0m\u001b[1;34m'idVerify'\u001b[0m\u001b[1;33m,\u001b[0m\u001b[1;34m'education'\u001b[0m\u001b[1;33m]\u001b[0m\u001b[1;33m\u001b[0m\u001b[1;33m\u001b[0m\u001b[0m\n\u001b[0;32m      7\u001b[0m \u001b[1;32mfor\u001b[0m \u001b[0mcolumn\u001b[0m \u001b[1;32min\u001b[0m \u001b[0mfilling_columns\u001b[0m\u001b[1;33m:\u001b[0m\u001b[1;33m\u001b[0m\u001b[1;33m\u001b[0m\u001b[0m\n\u001b[1;32m----> 8\u001b[1;33m     \u001b[0mdata\u001b[0m\u001b[1;33m[\u001b[0m\u001b[0mcolumn\u001b[0m\u001b[1;33m]\u001b[0m\u001b[1;33m.\u001b[0m\u001b[0mfillna\u001b[0m\u001b[1;33m(\u001b[0m\u001b[1;34m'未知'\u001b[0m\u001b[1;33m,\u001b[0m\u001b[0minplace\u001b[0m\u001b[1;33m=\u001b[0m\u001b[1;32mTrue\u001b[0m\u001b[1;33m)\u001b[0m\u001b[1;33m\u001b[0m\u001b[1;33m\u001b[0m\u001b[0m\n\u001b[0m\u001b[0;32m      9\u001b[0m \u001b[1;33m\u001b[0m\u001b[0m\n\u001b[0;32m     10\u001b[0m \u001b[1;31m# 查看存在缺失值的特征\u001b[0m\u001b[1;33m\u001b[0m\u001b[1;33m\u001b[0m\u001b[1;33m\u001b[0m\u001b[0m\n",
      "\u001b[1;32mD:\\anaconda3\\lib\\site-packages\\pandas\\core\\series.py\u001b[0m in \u001b[0;36mfillna\u001b[1;34m(self, value, method, axis, inplace, limit, downcast, **kwargs)\u001b[0m\n\u001b[0;32m   4343\u001b[0m             \u001b[0mlimit\u001b[0m\u001b[1;33m=\u001b[0m\u001b[0mlimit\u001b[0m\u001b[1;33m,\u001b[0m\u001b[1;33m\u001b[0m\u001b[1;33m\u001b[0m\u001b[0m\n\u001b[0;32m   4344\u001b[0m             \u001b[0mdowncast\u001b[0m\u001b[1;33m=\u001b[0m\u001b[0mdowncast\u001b[0m\u001b[1;33m,\u001b[0m\u001b[1;33m\u001b[0m\u001b[1;33m\u001b[0m\u001b[0m\n\u001b[1;32m-> 4345\u001b[1;33m             \u001b[1;33m**\u001b[0m\u001b[0mkwargs\u001b[0m\u001b[1;33m\u001b[0m\u001b[1;33m\u001b[0m\u001b[0m\n\u001b[0m\u001b[0;32m   4346\u001b[0m         )\n\u001b[0;32m   4347\u001b[0m \u001b[1;33m\u001b[0m\u001b[0m\n",
      "\u001b[1;32mD:\\anaconda3\\lib\\site-packages\\pandas\\core\\generic.py\u001b[0m in \u001b[0;36mfillna\u001b[1;34m(self, value, method, axis, inplace, limit, downcast)\u001b[0m\n\u001b[0;32m   6256\u001b[0m \u001b[1;33m\u001b[0m\u001b[0m\n\u001b[0;32m   6257\u001b[0m                 new_data = self._data.fillna(\n\u001b[1;32m-> 6258\u001b[1;33m                     \u001b[0mvalue\u001b[0m\u001b[1;33m=\u001b[0m\u001b[0mvalue\u001b[0m\u001b[1;33m,\u001b[0m \u001b[0mlimit\u001b[0m\u001b[1;33m=\u001b[0m\u001b[0mlimit\u001b[0m\u001b[1;33m,\u001b[0m \u001b[0minplace\u001b[0m\u001b[1;33m=\u001b[0m\u001b[0minplace\u001b[0m\u001b[1;33m,\u001b[0m \u001b[0mdowncast\u001b[0m\u001b[1;33m=\u001b[0m\u001b[0mdowncast\u001b[0m\u001b[1;33m\u001b[0m\u001b[1;33m\u001b[0m\u001b[0m\n\u001b[0m\u001b[0;32m   6259\u001b[0m                 )\n\u001b[0;32m   6260\u001b[0m \u001b[1;33m\u001b[0m\u001b[0m\n",
      "\u001b[1;32mD:\\anaconda3\\lib\\site-packages\\pandas\\core\\internals\\managers.py\u001b[0m in \u001b[0;36mfillna\u001b[1;34m(self, **kwargs)\u001b[0m\n\u001b[0;32m    573\u001b[0m \u001b[1;33m\u001b[0m\u001b[0m\n\u001b[0;32m    574\u001b[0m     \u001b[1;32mdef\u001b[0m \u001b[0mfillna\u001b[0m\u001b[1;33m(\u001b[0m\u001b[0mself\u001b[0m\u001b[1;33m,\u001b[0m \u001b[1;33m**\u001b[0m\u001b[0mkwargs\u001b[0m\u001b[1;33m)\u001b[0m\u001b[1;33m:\u001b[0m\u001b[1;33m\u001b[0m\u001b[1;33m\u001b[0m\u001b[0m\n\u001b[1;32m--> 575\u001b[1;33m         \u001b[1;32mreturn\u001b[0m \u001b[0mself\u001b[0m\u001b[1;33m.\u001b[0m\u001b[0mapply\u001b[0m\u001b[1;33m(\u001b[0m\u001b[1;34m\"fillna\"\u001b[0m\u001b[1;33m,\u001b[0m \u001b[1;33m**\u001b[0m\u001b[0mkwargs\u001b[0m\u001b[1;33m)\u001b[0m\u001b[1;33m\u001b[0m\u001b[1;33m\u001b[0m\u001b[0m\n\u001b[0m\u001b[0;32m    576\u001b[0m \u001b[1;33m\u001b[0m\u001b[0m\n\u001b[0;32m    577\u001b[0m     \u001b[1;32mdef\u001b[0m \u001b[0mdowncast\u001b[0m\u001b[1;33m(\u001b[0m\u001b[0mself\u001b[0m\u001b[1;33m,\u001b[0m \u001b[1;33m**\u001b[0m\u001b[0mkwargs\u001b[0m\u001b[1;33m)\u001b[0m\u001b[1;33m:\u001b[0m\u001b[1;33m\u001b[0m\u001b[1;33m\u001b[0m\u001b[0m\n",
      "\u001b[1;32mD:\\anaconda3\\lib\\site-packages\\pandas\\core\\internals\\managers.py\u001b[0m in \u001b[0;36mapply\u001b[1;34m(self, f, axes, filter, do_integrity_check, consolidate, **kwargs)\u001b[0m\n\u001b[0;32m    436\u001b[0m                     \u001b[0mkwargs\u001b[0m\u001b[1;33m[\u001b[0m\u001b[0mk\u001b[0m\u001b[1;33m]\u001b[0m \u001b[1;33m=\u001b[0m \u001b[0mobj\u001b[0m\u001b[1;33m.\u001b[0m\u001b[0mreindex\u001b[0m\u001b[1;33m(\u001b[0m\u001b[0mb_items\u001b[0m\u001b[1;33m,\u001b[0m \u001b[0maxis\u001b[0m\u001b[1;33m=\u001b[0m\u001b[0maxis\u001b[0m\u001b[1;33m,\u001b[0m \u001b[0mcopy\u001b[0m\u001b[1;33m=\u001b[0m\u001b[0malign_copy\u001b[0m\u001b[1;33m)\u001b[0m\u001b[1;33m\u001b[0m\u001b[1;33m\u001b[0m\u001b[0m\n\u001b[0;32m    437\u001b[0m \u001b[1;33m\u001b[0m\u001b[0m\n\u001b[1;32m--> 438\u001b[1;33m             \u001b[0mapplied\u001b[0m \u001b[1;33m=\u001b[0m \u001b[0mgetattr\u001b[0m\u001b[1;33m(\u001b[0m\u001b[0mb\u001b[0m\u001b[1;33m,\u001b[0m \u001b[0mf\u001b[0m\u001b[1;33m)\u001b[0m\u001b[1;33m(\u001b[0m\u001b[1;33m**\u001b[0m\u001b[0mkwargs\u001b[0m\u001b[1;33m)\u001b[0m\u001b[1;33m\u001b[0m\u001b[1;33m\u001b[0m\u001b[0m\n\u001b[0m\u001b[0;32m    439\u001b[0m             \u001b[0mresult_blocks\u001b[0m \u001b[1;33m=\u001b[0m \u001b[0m_extend_blocks\u001b[0m\u001b[1;33m(\u001b[0m\u001b[0mapplied\u001b[0m\u001b[1;33m,\u001b[0m \u001b[0mresult_blocks\u001b[0m\u001b[1;33m)\u001b[0m\u001b[1;33m\u001b[0m\u001b[1;33m\u001b[0m\u001b[0m\n\u001b[0;32m    440\u001b[0m \u001b[1;33m\u001b[0m\u001b[0m\n",
      "\u001b[1;32mD:\\anaconda3\\lib\\site-packages\\pandas\\core\\internals\\blocks.py\u001b[0m in \u001b[0;36mfillna\u001b[1;34m(self, value, limit, inplace, downcast)\u001b[0m\n\u001b[0;32m   1934\u001b[0m     \u001b[1;32mdef\u001b[0m \u001b[0mfillna\u001b[0m\u001b[1;33m(\u001b[0m\u001b[0mself\u001b[0m\u001b[1;33m,\u001b[0m \u001b[0mvalue\u001b[0m\u001b[1;33m,\u001b[0m \u001b[0mlimit\u001b[0m\u001b[1;33m=\u001b[0m\u001b[1;32mNone\u001b[0m\u001b[1;33m,\u001b[0m \u001b[0minplace\u001b[0m\u001b[1;33m=\u001b[0m\u001b[1;32mFalse\u001b[0m\u001b[1;33m,\u001b[0m \u001b[0mdowncast\u001b[0m\u001b[1;33m=\u001b[0m\u001b[1;32mNone\u001b[0m\u001b[1;33m)\u001b[0m\u001b[1;33m:\u001b[0m\u001b[1;33m\u001b[0m\u001b[1;33m\u001b[0m\u001b[0m\n\u001b[0;32m   1935\u001b[0m         \u001b[0mvalues\u001b[0m \u001b[1;33m=\u001b[0m \u001b[0mself\u001b[0m\u001b[1;33m.\u001b[0m\u001b[0mvalues\u001b[0m \u001b[1;32mif\u001b[0m \u001b[0minplace\u001b[0m \u001b[1;32melse\u001b[0m \u001b[0mself\u001b[0m\u001b[1;33m.\u001b[0m\u001b[0mvalues\u001b[0m\u001b[1;33m.\u001b[0m\u001b[0mcopy\u001b[0m\u001b[1;33m(\u001b[0m\u001b[1;33m)\u001b[0m\u001b[1;33m\u001b[0m\u001b[1;33m\u001b[0m\u001b[0m\n\u001b[1;32m-> 1936\u001b[1;33m         \u001b[0mvalues\u001b[0m \u001b[1;33m=\u001b[0m \u001b[0mvalues\u001b[0m\u001b[1;33m.\u001b[0m\u001b[0mfillna\u001b[0m\u001b[1;33m(\u001b[0m\u001b[0mvalue\u001b[0m\u001b[1;33m=\u001b[0m\u001b[0mvalue\u001b[0m\u001b[1;33m,\u001b[0m \u001b[0mlimit\u001b[0m\u001b[1;33m=\u001b[0m\u001b[0mlimit\u001b[0m\u001b[1;33m)\u001b[0m\u001b[1;33m\u001b[0m\u001b[1;33m\u001b[0m\u001b[0m\n\u001b[0m\u001b[0;32m   1937\u001b[0m         return [\n\u001b[0;32m   1938\u001b[0m             self.make_block_same_class(\n",
      "\u001b[1;32mD:\\anaconda3\\lib\\site-packages\\pandas\\util\\_decorators.py\u001b[0m in \u001b[0;36mwrapper\u001b[1;34m(*args, **kwargs)\u001b[0m\n\u001b[0;32m    206\u001b[0m                 \u001b[1;32melse\u001b[0m\u001b[1;33m:\u001b[0m\u001b[1;33m\u001b[0m\u001b[1;33m\u001b[0m\u001b[0m\n\u001b[0;32m    207\u001b[0m                     \u001b[0mkwargs\u001b[0m\u001b[1;33m[\u001b[0m\u001b[0mnew_arg_name\u001b[0m\u001b[1;33m]\u001b[0m \u001b[1;33m=\u001b[0m \u001b[0mnew_arg_value\u001b[0m\u001b[1;33m\u001b[0m\u001b[1;33m\u001b[0m\u001b[0m\n\u001b[1;32m--> 208\u001b[1;33m             \u001b[1;32mreturn\u001b[0m \u001b[0mfunc\u001b[0m\u001b[1;33m(\u001b[0m\u001b[1;33m*\u001b[0m\u001b[0margs\u001b[0m\u001b[1;33m,\u001b[0m \u001b[1;33m**\u001b[0m\u001b[0mkwargs\u001b[0m\u001b[1;33m)\u001b[0m\u001b[1;33m\u001b[0m\u001b[1;33m\u001b[0m\u001b[0m\n\u001b[0m\u001b[0;32m    209\u001b[0m \u001b[1;33m\u001b[0m\u001b[0m\n\u001b[0;32m    210\u001b[0m         \u001b[1;32mreturn\u001b[0m \u001b[0mwrapper\u001b[0m\u001b[1;33m\u001b[0m\u001b[1;33m\u001b[0m\u001b[0m\n",
      "\u001b[1;32mD:\\anaconda3\\lib\\site-packages\\pandas\\core\\arrays\\categorical.py\u001b[0m in \u001b[0;36mfillna\u001b[1;34m(self, value, method, limit)\u001b[0m\n\u001b[0;32m   1871\u001b[0m             \u001b[1;32melif\u001b[0m \u001b[0mis_hashable\u001b[0m\u001b[1;33m(\u001b[0m\u001b[0mvalue\u001b[0m\u001b[1;33m)\u001b[0m\u001b[1;33m:\u001b[0m\u001b[1;33m\u001b[0m\u001b[1;33m\u001b[0m\u001b[0m\n\u001b[0;32m   1872\u001b[0m                 \u001b[1;32mif\u001b[0m \u001b[1;32mnot\u001b[0m \u001b[0misna\u001b[0m\u001b[1;33m(\u001b[0m\u001b[0mvalue\u001b[0m\u001b[1;33m)\u001b[0m \u001b[1;32mand\u001b[0m \u001b[0mvalue\u001b[0m \u001b[1;32mnot\u001b[0m \u001b[1;32min\u001b[0m \u001b[0mself\u001b[0m\u001b[1;33m.\u001b[0m\u001b[0mcategories\u001b[0m\u001b[1;33m:\u001b[0m\u001b[1;33m\u001b[0m\u001b[1;33m\u001b[0m\u001b[0m\n\u001b[1;32m-> 1873\u001b[1;33m                     \u001b[1;32mraise\u001b[0m \u001b[0mValueError\u001b[0m\u001b[1;33m(\u001b[0m\u001b[1;34m\"fill value must be in categories\"\u001b[0m\u001b[1;33m)\u001b[0m\u001b[1;33m\u001b[0m\u001b[1;33m\u001b[0m\u001b[0m\n\u001b[0m\u001b[0;32m   1874\u001b[0m \u001b[1;33m\u001b[0m\u001b[0m\n\u001b[0;32m   1875\u001b[0m                 \u001b[0mmask\u001b[0m \u001b[1;33m=\u001b[0m \u001b[0mcodes\u001b[0m \u001b[1;33m==\u001b[0m \u001b[1;33m-\u001b[0m\u001b[1;36m1\u001b[0m\u001b[1;33m\u001b[0m\u001b[1;33m\u001b[0m\u001b[0m\n",
      "\u001b[1;31mValueError\u001b[0m: fill value must be in categories"
     ]
    }
   ],
   "source": [
    "#4.16 离散型特征的缺失值处理\n",
    "import pandas as pd\n",
    "\n",
    "# 缺失值处理\n",
    "data.dropna(subset=['Default'],inplace=True)\n",
    "filling_columns=['sex','maritalStatus','threeVerify','idVerify','education']\n",
    "for column in filling_columns:\n",
    "    data[column].fillna('未知',inplace=True)\n",
    "\n",
    "# 查看存在缺失值的特征\n",
    "na_counts = data.isnull().sum()\n",
    "missing_value = na_counts[na_counts > 0].sort_values(ascending = False)\n",
    "print(missing_value)"
   ]
  },
  {
   "cell_type": "code",
   "execution_count": 53,
   "metadata": {},
   "outputs": [
    {
     "name": "stdout",
     "output_type": "stream",
     "text": [
      "0    4\n",
      "Name: isCrime, dtype: int64\n"
     ]
    }
   ],
   "source": [
    "#4.17 离散型特征的异常值处理\n",
    "import pandas as pd\n",
    "\n",
    "# 异常值处理\n",
    "data['isCrime'] = data['isCrime'].replace(2,0)\n",
    "\n",
    "# 查看处理后的数据情况\n",
    "print(data['isCrime'].value_counts())"
   ]
  },
  {
   "cell_type": "code",
   "execution_count": 54,
   "metadata": {},
   "outputs": [
    {
     "name": "stdout",
     "output_type": "stream",
     "text": [
      "age                             38.0\n",
      "cashTotalAmt                     0.0\n",
      "cashTotalCnt                     0.0\n",
      "monthCardLargeAmt                0.0\n",
      "onlineTransAmt             -164560.0\n",
      "onlineTransCnt                   2.0\n",
      "publicPayAmt                     0.0\n",
      "publicPayCnt                     0.0\n",
      "transTotalAmt                    0.0\n",
      "transTotalCnt                    0.0\n",
      "transCnt_non_null_months         2.0\n",
      "transAmt_mean                    0.0\n",
      "transAmt_non_null_months         2.0\n",
      "cashCnt_mean                     0.0\n",
      "cashCnt_non_null_months          0.0\n",
      "cashAmt_mean                     0.0\n",
      "cashAmt_non_null_months          0.0\n",
      "card_age                         2.0\n",
      "dtype: float64\n"
     ]
    }
   ],
   "source": [
    "#4.18 查看连续性特征的取值\n",
    "# 所有连续型特征列名已保存在continuous_columns中\n",
    "continuous_columns = ['age','cashTotalAmt','cashTotalCnt','monthCardLargeAmt','onlineTransAmt','onlineTransCnt','publicPayAmt','publicPayCnt','transTotalAmt','transTotalCnt','transCnt_non_null_months','transAmt_mean','transAmt_non_null_months','cashCnt_mean','cashCnt_non_null_months','cashAmt_mean','cashAmt_non_null_months','card_age']\n",
    "# 查看数据各连续型特征的最小值\n",
    "data_con_min =data[continuous_columns].min()\n",
    "print(data_con_min)"
   ]
  },
  {
   "cell_type": "code",
   "execution_count": 55,
   "metadata": {},
   "outputs": [
    {
     "name": "stdout",
     "output_type": "stream",
     "text": [
      "   onlineTransAmt  onlineTransCnt\n",
      "0           -7710               2\n",
      "2         -164560              39\n"
     ]
    }
   ],
   "source": [
    "#4.19 网上消费金额（onlineTransAmt）异常值检测\n",
    "# 从原始数据中筛选出网上消费金额小于0时，网上消费金额和网上消费笔数这两列\n",
    "online_trans =data[data['onlineTransAmt']<0][['onlineTransAmt','onlineTransCnt']]\n",
    "print(online_trans)"
   ]
  },
  {
   "cell_type": "code",
   "execution_count": 56,
   "metadata": {},
   "outputs": [
    {
     "name": "stdout",
     "output_type": "stream",
     "text": [
      "Empty DataFrame\n",
      "Columns: [onlineTransAmt, onlineTransCnt]\n",
      "Index: []\n"
     ]
    }
   ],
   "source": [
    "#4.20 网上消费金额（onlineTransAmt）异常值处理\n",
    "# 将网上消费笔数为0时的网上消费金额皆修改为0\n",
    "data.loc[data['onlineTransCnt']==0,'onlineTransAmt']=0\n",
    "# 查看修正后网上消费笔数为0时，网上消费金额与网上消费笔数\n",
    "online_after = data[data[\"onlineTransCnt\"]  == 0 ][[\"onlineTransAmt\",\"onlineTransCnt\"]] \n",
    "print(online_after)"
   ]
  },
  {
   "cell_type": "code",
   "execution_count": 57,
   "metadata": {},
   "outputs": [
    {
     "data": {
      "text/plain": [
       "Text(0.5, 1.0, 'onlineTransAmt distribution')"
      ]
     },
     "execution_count": 57,
     "metadata": {},
     "output_type": "execute_result"
    },
    {
     "name": "stderr",
     "output_type": "stream",
     "text": [
      "D:\\anaconda3\\lib\\site-packages\\matplotlib\\backends\\backend_agg.py:211: RuntimeWarning: Glyph 8722 missing from current font.\n",
      "  font.set_text(s, 0.0, flags=flags)\n",
      "D:\\anaconda3\\lib\\site-packages\\matplotlib\\backends\\backend_agg.py:180: RuntimeWarning: Glyph 8722 missing from current font.\n",
      "  font.set_text(s, 0, flags=flags)\n"
     ]
    },
    {
     "data": {
      "image/png": "[encoded data removed]",
      "text/plain": [
       "<Figure size 576x432 with 1 Axes>"
      ]
     },
     "metadata": {
      "needs_background": "light"
     },
     "output_type": "display_data"
    }
   ],
   "source": [
    "#4.21 网上消费金额（onlineTransAmt）盒图绘制\n",
    "import seaborn as sns\n",
    "import matplotlib.pyplot as plt \n",
    "fig,ax = plt.subplots(figsize=(8,6))\n",
    "# 绘制盒图查看网上消费金额数据分布\n",
    "sns.boxplot(x=data['onlineTransAmt'],orient='v')\n",
    "plt.title('onlineTransAmt distribution')"
   ]
  },
  {
   "cell_type": "code",
   "execution_count": 58,
   "metadata": {},
   "outputs": [
    {
     "name": "stdout",
     "output_type": "stream",
     "text": [
      "  CityId  Default  Han  age  card_age  cashAmt_mean  cashAmt_non_null_months  \\\n",
      "0   一线城市        0    0   38         2             0                        0   \n",
      "1   一线城市        0    0   39        19             0                        0   \n",
      "2   二线城市        0    0   40        16             0                        0   \n",
      "3     其它        0    0   38        13         22000                        1   \n",
      "\n",
      "   cashCnt_mean  cashCnt_non_null_months  cashTotalAmt  ...  publicPayAmt  \\\n",
      "0             0                        0             0  ...             0   \n",
      "1             0                        0             0  ...             0   \n",
      "2             0                        0             0  ...           770   \n",
      "3             6                        1         22000  ...             0   \n",
      "\n",
      "  publicPayCnt sex  threeVerify  transAmt_mean  transAmt_non_null_months  \\\n",
      "0            0   女          不一致       0.000000                         2   \n",
      "1            0   男           一致     180.000000                         5   \n",
      "2            2   女           一致    2378.888889                         9   \n",
      "3            0   男           一致   28008.000000                        10   \n",
      "\n",
      "   transCnt_mean transCnt_non_null_months  transTotalAmt transTotalCnt  \n",
      "0       0.000000                        2              0             0  \n",
      "1       1.000000                        5            900             5  \n",
      "2       0.333333                        9          21410             3  \n",
      "3       1.500000                       10         280120            15  \n",
      "\n",
      "[4 rows x 33 columns]\n"
     ]
    }
   ],
   "source": [
    "#4.22 网上消费金额（onlineTransAmt）异常值处理\n",
    "# 筛选出网上消费金额在2千万以下的数据样本,更新data\n",
    "data = data[data['onlineTransAmt']<2.0e+07]\n",
    "print(data.head())"
   ]
  },
  {
   "cell_type": "code",
   "execution_count": 59,
   "metadata": {},
   "outputs": [
    {
     "name": "stdout",
     "output_type": "stream",
     "text": [
      "Empty DataFrame\n",
      "Columns: [publicPayCnt, publicPayAmt]\n",
      "Index: []\n"
     ]
    }
   ],
   "source": [
    "#4.23 公共事业缴费金额（publicPayAmt）异常值检测\n",
    "# 从原始数据中筛选出公共事业缴费金额小于0时，公共事业缴费笔数和公共事业缴费金额这两列\n",
    "public_pay = data[data['publicPayAmt']<0][['publicPayCnt','publicPayAmt']]\n",
    "print(public_pay)"
   ]
  },
  {
   "cell_type": "code",
   "execution_count": 60,
   "metadata": {},
   "outputs": [
    {
     "name": "stdout",
     "output_type": "stream",
     "text": [
      "   publicPayAmt  publicPayCnt\n",
      "0             0             0\n",
      "1             0             0\n",
      "3             0             0\n"
     ]
    }
   ],
   "source": [
    "#4.24 公共事业缴费金额（publicPayAmt）异常值处理\n",
    "# 将公共事业缴费笔数为0时的公共事业缴费金额皆修改为0（直接在原始数据上进行修改）\n",
    "data.loc[data['publicPayCnt']==0,'publicPayAmt']=0\n",
    "\n",
    "# 查看修正后的，公共事业缴费笔数为0时的公共事业缴费金额与公共事业缴费笔数\n",
    "public_after = data[data[\"publicPayCnt\"]  ==  0][[\"publicPayAmt\",\"publicPayCnt\"]]\n",
    "print(public_after)"
   ]
  },
  {
   "cell_type": "code",
   "execution_count": 61,
   "metadata": {},
   "outputs": [
    {
     "data": {
      "text/plain": [
       "Text(0.5, 1.0, 'publicPayAmt distribution')"
      ]
     },
     "execution_count": 61,
     "metadata": {},
     "output_type": "execute_result"
    },
    {
     "data": {
      "image/png": "[encoded data removed]",
      "text/plain": [
       "<Figure size 576x432 with 1 Axes>"
      ]
     },
     "metadata": {
      "needs_background": "light"
     },
     "output_type": "display_data"
    }
   ],
   "source": [
    "#4.25 公共事业缴费金额（publicPayAmt）盒图绘制\n",
    "import seaborn as sns\n",
    "import matplotlib.pyplot as plt\n",
    "fig,ax = plt.subplots(figsize=(8,6))\n",
    "# 绘制盒图查看公共事业缴费金额数据分布。\n",
    "sns.boxplot(data['publicPayAmt'],orient='v')\n",
    "plt.title('publicPayAmt distribution')"
   ]
  },
  {
   "cell_type": "code",
   "execution_count": 62,
   "metadata": {},
   "outputs": [
    {
     "name": "stdout",
     "output_type": "stream",
     "text": [
      "Empty DataFrame\n",
      "Columns: [publicPayCnt, publicPayAmt]\n",
      "Index: []\n"
     ]
    }
   ],
   "source": [
    "#4.26 公共事业缴费金额（publicPayAmt）异常值处理\n",
    "# 筛选出公共事业缴费金额小于-400万的样本数据\n",
    "public_pay = data[data['publicPayAmt']<-4.0e+06]\n",
    "print(public_pay[['publicPayCnt','publicPayAmt']])"
   ]
  },
  {
   "cell_type": "code",
   "execution_count": 63,
   "metadata": {},
   "outputs": [
    {
     "name": "stdout",
     "output_type": "stream",
     "text": [
      "   transTotalCnt  transTotalAmt\n",
      "0              0              0\n"
     ]
    }
   ],
   "source": [
    "#4.27 总消费金额（transTotalAmt）异常值检测\n",
    "# 从原始数据中筛选出总消费笔数等于0时，总消费笔数，总消费金额这两列\n",
    "transTotal = data[data['transTotalCnt']==0][['transTotalCnt','transTotalAmt']]\n",
    "print(transTotal)"
   ]
  },
  {
   "cell_type": "code",
   "execution_count": 64,
   "metadata": {},
   "outputs": [
    {
     "data": {
      "text/plain": [
       "Text(0.5, 1.0, 'transTotalAmt distribution')"
      ]
     },
     "execution_count": 64,
     "metadata": {},
     "output_type": "execute_result"
    },
    {
     "data": {
      "image/png": "[encoded data removed]",
      "text/plain": [
       "<Figure size 576x432 with 1 Axes>"
      ]
     },
     "metadata": {
      "needs_background": "light"
     },
     "output_type": "display_data"
    }
   ],
   "source": [
    "#4.28 总消费金额（transTotalAmt）盒图绘制\n",
    "import seaborn as sns\n",
    "import matplotlib.pyplot as plt\n",
    "fig,ax = plt.subplots(figsize=(8,6))\n",
    "# 绘制盒图，查看总消费金额数据分布。\n",
    "sns.boxplot(data['transTotalAmt'],orient='v')\n",
    "plt.title('transTotalAmt distribution')"
   ]
  },
  {
   "cell_type": "code",
   "execution_count": 65,
   "metadata": {},
   "outputs": [
    {
     "name": "stdout",
     "output_type": "stream",
     "text": [
      "Empty DataFrame\n",
      "Columns: [transTotalAmt, transTotalCnt, onlineTransAmt, onlineTransCnt, monthCardLargeAmt]\n",
      "Index: []\n"
     ]
    }
   ],
   "source": [
    "#4.29 总消费金额（transTotalAmt）异常值处理\n",
    "# 筛选出总消费金额大于1000万的样本数据\n",
    "transTotal = data[data['transTotalAmt']>1.0e+07]\n",
    "print(transTotal[['transTotalAmt','transTotalCnt','onlineTransAmt','onlineTransCnt','monthCardLargeAmt']])"
   ]
  },
  {
   "cell_type": "code",
   "execution_count": 66,
   "metadata": {},
   "outputs": [
    {
     "name": "stdout",
     "output_type": "stream",
     "text": [
      "   cashTotalCnt  cashTotalAmt\n",
      "0             0             0\n",
      "1             0             0\n",
      "2             0             0\n"
     ]
    }
   ],
   "source": [
    "#4.30 总取现金额（cashTotalAmt）异常值检测\n",
    "# 筛选出总取现笔数为0时，总取现笔数，总取现金额这两列\n",
    "cashTotal = data[data['cashTotalCnt']==0][['cashTotalCnt','cashTotalAmt']]\n",
    "print(cashTotal)"
   ]
  },
  {
   "cell_type": "code",
   "execution_count": 67,
   "metadata": {},
   "outputs": [
    {
     "data": {
      "text/plain": [
       "Text(0.5, 1.0, 'cashTotalAmt distribution')"
      ]
     },
     "execution_count": 67,
     "metadata": {},
     "output_type": "execute_result"
    },
    {
     "data": {
      "image/png": "[encoded data removed]",
      "text/plain": [
       "<Figure size 576x432 with 1 Axes>"
      ]
     },
     "metadata": {
      "needs_background": "light"
     },
     "output_type": "display_data"
    }
   ],
   "source": [
    "#4.31 总取现金额（cashTotalAmt）盒图绘制\n",
    "import seaborn as sns\n",
    "import matplotlib.pyplot as plt\n",
    "fig,ax = plt.subplots(figsize=(8,6))\n",
    "# 绘制盒图，查看总取现金额数据分布。\n",
    "sns.boxplot(data['cashTotalAmt'],orient='v')\n",
    "plt.title('cashTotalAmt distribution')"
   ]
  },
  {
   "cell_type": "code",
   "execution_count": 68,
   "metadata": {},
   "outputs": [
    {
     "name": "stdout",
     "output_type": "stream",
     "text": [
      "Empty DataFrame\n",
      "Columns: [CityId, Default, Han, age, card_age, cashAmt_mean, cashAmt_non_null_months, cashCnt_mean, cashCnt_non_null_months, cashTotalAmt, cashTotalCnt, education, idVerify, inCourt, isBlackList, isCrime, isDue, maritalStatus, monthCardLargeAmt, netLength, noTransWeekPre, onlineTransAmt, onlineTransCnt, publicPayAmt, publicPayCnt, sex, threeVerify, transAmt_mean, transAmt_non_null_months, transCnt_mean, transCnt_non_null_months, transTotalAmt, transTotalCnt]\n",
      "Index: []\n",
      "\n",
      "[0 rows x 33 columns]\n"
     ]
    }
   ],
   "source": [
    "#4.32 总取现金额（cashTotalAmt）异常值处理\n",
    "# 筛选出总取现金额大于50万的样本数据。\n",
    "cashTotal=data[data['cashTotalAmt']>5.0e+05]\n",
    "print(cashTotal)"
   ]
  },
  {
   "cell_type": "code",
   "execution_count": 69,
   "metadata": {},
   "outputs": [
    {
     "data": {
      "text/plain": [
       "Text(0.5, 1.0, 'monthCardLargeAmt distribution')"
      ]
     },
     "execution_count": 69,
     "metadata": {},
     "output_type": "execute_result"
    },
    {
     "data": {
      "image/png": "[encoded data removed]",
      "text/plain": [
       "<Figure size 576x432 with 1 Axes>"
      ]
     },
     "metadata": {
      "needs_background": "light"
     },
     "output_type": "display_data"
    }
   ],
   "source": [
    "#4.33 月最大消费金额（monthCardLargeAmt）盒图绘制\n",
    "import seaborn as sns\n",
    "import matplotlib.pyplot as plt\n",
    "fig,ax = plt.subplots(figsize=(8,6))\n",
    "# 绘制盒图，查看月最大消费金额数据分布\n",
    "sns.boxplot(data['monthCardLargeAmt'],orient='v')\n",
    "plt.title('monthCardLargeAmt distribution')"
   ]
  },
  {
   "cell_type": "code",
   "execution_count": 70,
   "metadata": {},
   "outputs": [
    {
     "name": "stdout",
     "output_type": "stream",
     "text": [
      "Empty DataFrame\n",
      "Columns: [CityId, Default, Han, age, card_age, cashAmt_mean, cashAmt_non_null_months, cashCnt_mean, cashCnt_non_null_months, cashTotalAmt, cashTotalCnt, education, idVerify, inCourt, isBlackList, isCrime, isDue, maritalStatus, monthCardLargeAmt, netLength, noTransWeekPre, onlineTransAmt, onlineTransCnt, publicPayAmt, publicPayCnt, sex, threeVerify, transAmt_mean, transAmt_non_null_months, transCnt_mean, transCnt_non_null_months, transTotalAmt, transTotalCnt]\n",
      "Index: []\n",
      "\n",
      "[0 rows x 33 columns]\n"
     ]
    }
   ],
   "source": [
    "#4.34 月最大消费金额（monthCardLargeAmt）异常值处理\n",
    "# 筛选出月最大消费金额大于200万的数据\n",
    "monthCard = data[data['monthCardLargeAmt']>2.0e+06]\n",
    "print(monthCard)"
   ]
  },
  {
   "cell_type": "code",
   "execution_count": 71,
   "metadata": {},
   "outputs": [
    {
     "data": {
      "text/plain": [
       "Text(0.5, 1.0, 'transTotalCnt distribution')"
      ]
     },
     "execution_count": 71,
     "metadata": {},
     "output_type": "execute_result"
    },
    {
     "data": {
      "image/png": "[encoded data removed]",
      "text/plain": [
       "<Figure size 576x432 with 1 Axes>"
      ]
     },
     "metadata": {
      "needs_background": "light"
     },
     "output_type": "display_data"
    }
   ],
   "source": [
    "#4.35 总消费笔数（transTotalCnt）盒图绘制\n",
    "import seaborn as sns\n",
    "import matplotlib.pyplot as plt\n",
    "fig,ax = plt.subplots(figsize=(8,6))\n",
    "# 绘制盒图，查看总消费笔数数据分布\n",
    "sns.boxplot(data['transTotalCnt'],orient='v')\n",
    "plt.title('transTotalCnt distribution')"
   ]
  },
  {
   "cell_type": "code",
   "execution_count": 72,
   "metadata": {},
   "outputs": [
    {
     "name": "stdout",
     "output_type": "stream",
     "text": [
      "  CityId  Default  Han  age  card_age  cashAmt_mean  cashAmt_non_null_months  \\\n",
      "0   一线城市        0    0   38         2             0                        0   \n",
      "1   一线城市        0    0   39        19             0                        0   \n",
      "2   二线城市        0    0   40        16             0                        0   \n",
      "3     其它        0    0   38        13         22000                        1   \n",
      "\n",
      "   cashCnt_mean  cashCnt_non_null_months  cashTotalAmt  ...  publicPayAmt  \\\n",
      "0             0                        0             0  ...             0   \n",
      "1             0                        0             0  ...             0   \n",
      "2             0                        0             0  ...           770   \n",
      "3             6                        1         22000  ...             0   \n",
      "\n",
      "  publicPayCnt sex  threeVerify  transAmt_mean  transAmt_non_null_months  \\\n",
      "0            0   女          不一致       0.000000                         2   \n",
      "1            0   男           一致     180.000000                         5   \n",
      "2            2   女           一致    2378.888889                         9   \n",
      "3            0   男           一致   28008.000000                        10   \n",
      "\n",
      "   transCnt_mean transCnt_non_null_months  transTotalAmt transTotalCnt  \n",
      "0       0.000000                        2              0             0  \n",
      "1       1.000000                        5            900             5  \n",
      "2       0.333333                        9          21410             3  \n",
      "3       1.500000                       10         280120            15  \n",
      "\n",
      "[4 rows x 33 columns]\n"
     ]
    }
   ],
   "source": [
    "#4.36 总消费笔数（transTotalCnt）异常值处理\n",
    "# 从data中筛选总消费笔数小于6000的值，赋值给data\n",
    "data = data[data['transTotalCnt']<6000]\n",
    "print(data.head())"
   ]
  },
  {
   "cell_type": "code",
   "execution_count": 73,
   "metadata": {},
   "outputs": [
    {
     "name": "stdout",
     "output_type": "stream",
     "text": [
      "  CityId  Default  Han  age  card_age  cashAmt_mean  cashAmt_non_null_months  \\\n",
      "0      1        0    0   38         2             0                        0   \n",
      "1      1        0    0   39        19             0                        0   \n",
      "2      2        0    0   40        16             0                        0   \n",
      "3      3        0    0   38        13         22000                        1   \n",
      "\n",
      "   cashCnt_mean  cashCnt_non_null_months  cashTotalAmt  ...  publicPayAmt  \\\n",
      "0             0                        0             0  ...             0   \n",
      "1             0                        0             0  ...             0   \n",
      "2             0                        0             0  ...           770   \n",
      "3             6                        1         22000  ...             0   \n",
      "\n",
      "  publicPayCnt  sex  threeVerify  transAmt_mean  transAmt_non_null_months  \\\n",
      "0            0    2            2       0.000000                         2   \n",
      "1            0    1            1     180.000000                         5   \n",
      "2            2    2            1    2378.888889                         9   \n",
      "3            0    1            1   28008.000000                        10   \n",
      "\n",
      "   transCnt_mean transCnt_non_null_months  transTotalAmt transTotalCnt  \n",
      "0       0.000000                        2              0             0  \n",
      "1       1.000000                        5            900             5  \n",
      "2       0.333333                        9          21410             3  \n",
      "3       1.500000                       10         280120            15  \n",
      "\n",
      "[4 rows x 33 columns]\n"
     ]
    }
   ],
   "source": [
    "#4.37 数字编码\n",
    "import numpy as np\n",
    "import pandas as pd\n",
    "\n",
    "data[\"maritalStatus\"] = data[\"maritalStatus\"].map({\"未知\":0,\"未婚\":1,\"已婚\":2})\n",
    "data['education']= data[\"education\"].map({\"未知\":0,\"小学\":1,\"初中\":2,\"高中\":3,\"本科以上\":4})\n",
    "data['idVerify']= data[\"idVerify\"].map({\"未知\":0,\"一致\":1,\"不一致\":2})\n",
    "data['threeVerify']= data[\"threeVerify\"].map({\"未知\":0,\"一致\":1,\"不一致\":2})\n",
    "data[\"netLength\"] = data[\"netLength\"].map({\"无效\":0,\"0-6个月\":1,\"6-12个月\":2,\"12-24个月\":3,\"24个月以上\":4})\n",
    "data[\"sex\"] = data[\"sex\"].map({\"未知\":0,\"男\":1,\"女\":2})\n",
    "data[\"CityId\"] = data[\"CityId\"].map({\"一线城市\":1,\"二线城市\":2,\"其它\":3})\n",
    "\n",
    "print(data.head())"
   ]
  },
  {
   "cell_type": "code",
   "execution_count": 74,
   "metadata": {},
   "outputs": [
    {
     "name": "stdout",
     "output_type": "stream",
     "text": [
      "Index(['Default', 'age', 'card_age', 'cashAmt_mean', 'cashAmt_non_null_months',\n",
      "       'cashCnt_mean', 'cashCnt_non_null_months', 'cashTotalAmt',\n",
      "       'cashTotalCnt', 'inCourt', 'isBlackList', 'isCrime', 'isDue',\n",
      "       'monthCardLargeAmt', 'noTransWeekPre', 'onlineTransAmt',\n",
      "       'onlineTransCnt', 'publicPayAmt', 'publicPayCnt', 'transAmt_mean',\n",
      "       'transAmt_non_null_months', 'transCnt_mean', 'transCnt_non_null_months',\n",
      "       'transTotalAmt', 'transTotalCnt', 'maritalStatus_1', 'maritalStatus_2',\n",
      "       'education_1', 'education_2', 'education_3', 'education_4',\n",
      "       'idVerify_2.0', 'threeVerify_1', 'threeVerify_2', 'Han_0',\n",
      "       'netLength_1', 'netLength_2', 'netLength_3', 'netLength_4',\n",
      "       'netLength_0', 'sex_1', 'sex_2', 'CityId_1', 'CityId_2', 'CityId_3'],\n",
      "      dtype='object')\n"
     ]
    }
   ],
   "source": [
    "#4.38 One-Hot编码\n",
    "import numpy as np\n",
    "import pandas as pd\n",
    "\n",
    "data = pd.get_dummies(data=data,columns=['maritalStatus','education','idVerify','threeVerify','Han','netLength','sex','CityId'],prefix_sep='_')\n",
    "print(data.columns)"
   ]
  },
  {
   "cell_type": "code",
   "execution_count": 75,
   "metadata": {},
   "outputs": [
    {
     "name": "stdout",
     "output_type": "stream",
     "text": [
      "0        0.000000\n",
      "1      180.000000\n",
      "2      792.962962\n",
      "3    42012.000000\n",
      "Name: trans_total, dtype: float64\n"
     ]
    }
   ],
   "source": [
    "#5.2 年消费总额指标计算\n",
    "# 计算客户年消费总额。\n",
    "trans_total =data['transCnt_mean']*data['transAmt_mean']\n",
    "\n",
    "# 将计算结果保留到小数点后六位。\n",
    "trans_total =round(trans_total,6)\n",
    "\n",
    "# 将结果加在data数据集中的最后一列，并将此列命名为trans_total。\n",
    "data['trans_total'] =trans_total\n",
    "\n",
    "print(data['trans_total'].head(20))"
   ]
  },
  {
   "cell_type": "code",
   "execution_count": 76,
   "metadata": {},
   "outputs": [
    {
     "name": "stdout",
     "output_type": "stream",
     "text": [
      "0         0\n",
      "1         0\n",
      "2         0\n",
      "3    132000\n",
      "Name: total_withdraw, dtype: int64\n"
     ]
    }
   ],
   "source": [
    "#5.3 年取现总额指标计算\n",
    "# 计算客户年取现总额。\n",
    "total_withdraw =data['cashCnt_mean']*data['cashAmt_mean']\n",
    "\n",
    "# 将计算结果保留到小数点后六位。\n",
    "total_withdraw =round(total_withdraw,6)\n",
    "\n",
    "# 将结果加在data数据集的最后一列，并将此列命名为total_withdraw。\n",
    "data['total_withdraw'] =total_withdraw\n",
    "\n",
    "print(data['total_withdraw'].head(20))"
   ]
  },
  {
   "cell_type": "code",
   "execution_count": 77,
   "metadata": {},
   "outputs": [
    {
     "name": "stdout",
     "output_type": "stream",
     "text": [
      "0       0.000000\n",
      "1       0.000000\n",
      "2       0.000000\n",
      "3    3666.666667\n",
      "Name: avg_per_withdraw, dtype: float64\n"
     ]
    }
   ],
   "source": [
    "#5.4 平均每笔取现金额指标计算\n",
    "import numpy as np\n",
    "\n",
    "# 计算客户的平均每笔取现金额。\n",
    "avg_per_withdraw =data['cashTotalAmt']/data['cashTotalCnt']\n",
    "\n",
    "# 将所有的inf和NaN变为0。\n",
    "avg_per_withdraw=avg_per_withdraw.replace({np.nan:0,np.inf:0})\n",
    "\n",
    "# 将计算结果保留到小数点后六位。\n",
    "avg_per_withdraw =round(avg_per_withdraw,6)\n",
    "\n",
    "# 将结果加在data数据集的最后一列，并将此列命名为avg_per_withdraw。\n",
    "data['avg_per_withdraw'] =avg_per_withdraw\n",
    "\n",
    "print(data['avg_per_withdraw'].head(20))"
   ]
  },
  {
   "cell_type": "code",
   "execution_count": 78,
   "metadata": {},
   "outputs": [
    {
     "name": "stdout",
     "output_type": "stream",
     "text": [
      "0   -3855.000000\n",
      "1     233.333333\n",
      "2   -4219.487179\n",
      "3    1808.571429\n",
      "Name: avg_per_online_spend, dtype: float64\n"
     ]
    }
   ],
   "source": [
    "#5.5 网上平均每笔消费额指标计算\n",
    "import numpy as np\n",
    "\n",
    "# 请计算客户的网上平均每笔消费额。\n",
    "avg_per_online_spend =data['onlineTransAmt']/data['onlineTransCnt']\n",
    "\n",
    "# 将所有的inf和NaN变为0。\n",
    "avg_per_online_spend=avg_per_online_spend.replace({np.nan:0,np.inf:0})\n",
    "\n",
    "# 将计算结果保留到小数点后六位。\n",
    "avg_per_online_spend =round(avg_per_online_spend,6)\n",
    "\n",
    "# 将结果加在data数据集的最后一列，并将此列命名为avg_per_online_spend。\n",
    "data['avg_per_online_spend'] =avg_per_online_spend\n",
    "\n",
    "print(data['avg_per_online_spend'].head(20))"
   ]
  },
  {
   "cell_type": "code",
   "execution_count": 79,
   "metadata": {},
   "outputs": [
    {
     "name": "stdout",
     "output_type": "stream",
     "text": [
      "0      0.0\n",
      "1      0.0\n",
      "2    385.0\n",
      "3      0.0\n",
      "Name: avg_per_public_spend, dtype: float64\n"
     ]
    }
   ],
   "source": [
    "#5.6 公共事业平均每笔缴费额指标计算\n",
    "import numpy as np\n",
    "\n",
    "# 请计算客户的公共事业平均每笔缴费额。\n",
    "avg_per_public_spend =data['publicPayAmt']/data['publicPayCnt']\n",
    "\n",
    "# 将所有的inf和NaN变为0。\n",
    "avg_per_public_spend =avg_per_public_spend.replace({np.nan:0,np.inf:0})\n",
    "\n",
    "# 将计算结果保留到小数点后六位。\n",
    "avg_per_public_spend =round(avg_per_public_spend,6)\n",
    "\n",
    "# 将结果加在data数据集的最后一列，并将此列命名为avg_per_public_spend。\n",
    "data['avg_per_public_spend'] =avg_per_public_spend\n",
    "\n",
    "print(data['avg_per_public_spend'].head(20))"
   ]
  },
  {
   "cell_type": "code",
   "execution_count": 80,
   "metadata": {},
   "outputs": [
    {
     "name": "stdout",
     "output_type": "stream",
     "text": [
      "0    0\n",
      "1    0\n",
      "2    0\n",
      "3    0\n",
      "Name: bad_record, dtype: int64\n"
     ]
    }
   ],
   "source": [
    "#5.7 不良记录指标计算\n",
    "#请计算客户的不良记录分数。\n",
    "bad_record =data['inCourt']+data['isDue']+data['isCrime']+data['isBlackList']\n",
    "\n",
    "#将计算结果加在data数据集的最后一列，并将此列命名为bad_record。\n",
    "data['bad_record'] =bad_record\n",
    "\n",
    "print(data['bad_record'].head(20))"
   ]
  },
  {
   "cell_type": "code",
   "execution_count": 82,
   "metadata": {},
   "outputs": [
    {
     "name": "stdout",
     "output_type": "stream",
     "text": [
      "x_train length: 3, x_test length: 1\n",
      "0.0\n",
      "0.0\n"
     ]
    }
   ],
   "source": [
    "#6.3 训练集和测试集划分\n",
    "from sklearn.model_selection import train_test_split\n",
    "\n",
    "# 筛选data中的Default列的值，赋予变量y\n",
    "y = data['Default'].values\n",
    "\n",
    "# 筛选除去Default列的其他列的值，赋予变量x\n",
    "x = data.drop(['Default'], axis=1).values\n",
    "\n",
    "# 使用train_test_split方法，将x,y划分训练集和测试集\n",
    "x_train, x_test, y_train, y_test = train_test_split(x,y,test_size=0.2,random_state=33,stratify=y)\n",
    "\n",
    "# 查看划分后的x_train与x_test的长度\n",
    "len_x_train = len(x_train)\n",
    "len_x_test = len(x_test)\n",
    "print('x_train length: %d, x_test length: %d'%(len_x_train,len_x_test))\n",
    "\n",
    "# 查看分层采样后的训练集中违约客户人数的占比\n",
    "train_ratio = y_train.sum()/len(y_train)\n",
    "print(train_ratio)\n",
    "\n",
    "# 查看分层采样后的测试集中违约客户人数的占比\n",
    "test_ratio = y_test.sum()/len(y_test)\n",
    "print(test_ratio)"
   ]
  },
  {
   "cell_type": "code",
   "execution_count": null,
   "metadata": {},
   "outputs": [],
   "source": []
  },
  {
   "cell_type": "code",
   "execution_count": null,
   "metadata": {},
   "outputs": [],
   "source": []
  },
  {
   "cell_type": "code",
   "execution_count": null,
   "metadata": {},
   "outputs": [],
   "source": []
  }
 ],
 "metadata": {
  "kernelspec": {
   "display_name": "Python 3",
   "language": "python",
   "name": "python3"
  },
  "language_info": {
   "codemirror_mode": {
    "name": "ipython",
    "version": 3
   },
   "file_extension": ".py",
   "mimetype": "text/x-python",
   "name": "python",
   "nbconvert_exporter": "python",
   "pygments_lexer": "ipython3",
   "version": "3.7.4"
  }
 },
 "nbformat": 4,
 "nbformat_minor": 2
}
